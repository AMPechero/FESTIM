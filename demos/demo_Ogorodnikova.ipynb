{
 "cells": [
  {
   "cell_type": "markdown",
   "metadata": {},
   "source": [
    " In this tutorial, we will demonstrate how to implement a time-dependent simulation of hydrogen isotopes diffusion-trapping followed by Thermal Desorption Spectrometry (TDS). The aim is to replicate the experimental results presented in [Ogorodnikova _et al_ (J. Nucl. Mater. 313-316 (2003) 469-477.)](https://www.sciencedirect.com/science/article/pii/S0022311502013752?via%3Dihub) using FESTIM."
   ]
  },
  {
   "cell_type": "markdown",
   "metadata": {},
   "source": [
    "# 1. Setting the parameters,\n",
    "The function `run()` in FESTIM takes as an argument a dictionary (dict) of parameters. The first step is to create an empty dict.  The parameters needed for the simulation are added in the following steps."
   ]
  },
  {
   "cell_type": "code",
   "execution_count": 1,
   "metadata": {},
   "outputs": [],
   "source": [
    "parameters = {}"
   ]
  },
  {
   "cell_type": "markdown",
   "metadata": {},
   "source": [
    "FESTIM provides a simple way to define refined meshes.\n",
    "The size of the 1D domain we wish to mesh is set in `\"size\"` and is expressed in $\\text{m}$. In our case, we simulate a $20 \\: \\mu \\text{m}$ slab. We start with a broad mesh of 200 cells and then iteratively refine it.\n",
    "The following code performs a first refinement within the first $3 \\: \\mu \\text{m}$ in order to have at least 300 cells in this region. We will do the same for the first $30 \\: \\text{nm}$ where we want at least 120 cells."
   ]
  },
  {
   "cell_type": "code",
   "execution_count": 2,
   "metadata": {},
   "outputs": [],
   "source": [
    "mesh_parameters = {\n",
    "    \"size\": 20e-6,\n",
    "    \"initial_number_of_cells\": 200,\n",
    "    \"refinements\": [\n",
    "        {\n",
    "            \"cells\": 300,\n",
    "            \"x\": 3e-6\n",
    "        },\n",
    "        {\n",
    "            \"cells\": 120,\n",
    "             \"x\": 30e-9\n",
    "                    }\n",
    "    ],\n",
    "}\n",
    "parameters[\"mesh_parameters\"] = mesh_parameters"
   ]
  },
  {
   "cell_type": "markdown",
   "metadata": {},
   "source": [
    "### 1.2 Material properties\n",
    "The materials are defined as a list of dict. In our case, we have only one material (tungsten), the list will therefore have only one element.\n",
    "\n",
    "\n",
    "`\"borders\"` represents the boundaries of the 1D domain in $\\text{m}$.\n",
    "`\"E_D\"` is the energy barrier for diffusion expressed in $\\text{eV}$.\n",
    "`\"D_0\"` is the pre-exponential factor of the Arhenius' law for the diffusion coefficient expressed in $\\text{m}^{2}\\text{s}^{-1}$.\n",
    "Diffusion coefficient is expressed as:\n",
    "\\begin{equation}\n",
    "    D(T) = D_{0} e^{\\frac{-E_{diff}}{k_B \\cdot T}}\n",
    "\\end{equation}\n",
    "\n",
    "where $T$ is the temperature in $\\text{K}$ and $k_B = 8.6\\times 10 ^{-5} \\: \\text{eV/K}$ the Boltzmann constant.\n",
    "\n",
    "Finally, `\"id\"` is the id of the material subdomain. In this case, there is only one.\""
   ]
  },
  {
   "cell_type": "code",
   "execution_count": 3,
   "metadata": {},
   "outputs": [],
   "source": [
    "material = [{\n",
    "    \"borders\": [0, 20e-6],\n",
    "    \"E_D\": 0.39,\n",
    "    \"D_0\": 4.1e-7,\n",
    "    \"id\": 1\n",
    "}]\n",
    "parameters[\"materials\"] = material"
   ]
  },
  {
   "cell_type": "markdown",
   "metadata": {},
   "source": [
    "### 1.3 Volumetric source term\n",
    "We define next the volumetric source term for the simulation as a dict.\n",
    "First we import the sympy package needed to handle the source term as a sympy object in FESTIM.\n",
    "\n",
    "The source term is defined as:\n",
    "\\begin{equation}\n",
    "    S_{ext} = \\varphi \\cdot f(x) \\quad \\forall t<400 \\text{s}\n",
    "\\end{equation}\n",
    "\n",
    "where $\\varphi =2.5 \\times 10^{19} \\text{m}^{-2}\\text{s}^{-1}$ and $f(x)$ is a Gaussian spatial distribution with a mean value of $4.5 \\: \\text{nm}$ and a width of $2.5 \\: \\text{nm}$.\n",
    "\n",
    "Above, `t` and `x` are built-in variables that respectively represent time in $\\text{s}$ and the $x$ position in $\\text{m}$."
   ]
  },
  {
   "cell_type": "code",
   "execution_count": 4,
   "metadata": {},
   "outputs": [],
   "source": [
    "import sympy as sp\n",
    "from FESTIM import x, t\n",
    "\n",
    "center = 4.5e-9\n",
    "width = 2.5e-9\n",
    "distribution = 1/(width*(2*3.14)**0.5) * sp.exp(-0.5*((x-center)/width)**2)\n",
    "\n",
    "source_term = {\n",
    "    'value': 2.5e19 *distribution* (t <= 400)\n",
    "}\n",
    "parameters[\"source_term\"] = source_term"
   ]
  },
  {
   "cell_type": "markdown",
   "metadata": {},
   "source": [
    "### 1.4 Traps\n",
    "\n",
    "In FESTIM, each trap is defined by a dictionary with the following keys:\n",
    "\n",
    "`\"k_0\"` and `\"E_k\"` are the trapping rate pre-exponential factor in $\\text{m}^{3} \\text{s}^{-1}$ and activation energy in $\\text{eV}$.\n",
    "\n",
    "`\"p_0\"` and `\"E_p\"` are the detrapping rate pre-exponential factor in $\\text{s}^{-1}$ and activation energy in $\\text{eV}$.\n",
    "\n",
    "`\"materials\"` is a list of the materials' ids where the trap is.\n",
    "\n",
    "`\"type\"` is the trap type.\n",
    "\n",
    "In FESTIM, traps are intrinsic by default. However, traps can also be implemented as extrinsic, as shown in the example hereafter corresponding to 2 intrinsic traps and 1 extrinsic trap.\n",
    "\n",
    "The time evolution of extrinsic traps density $n_i$ expressed in $\\text{m}^{-3}$ is defined as:\n",
    "\\begin{equation}\n",
    "    \\frac{dn_i}{dt} = \\varphi_0\\:[(1-\\frac{n_i}{n_{a_{max}}})\\:\\eta_a \\:f_a(x)+(1-\\frac{n_i}{n_{b_{max}}})\\:\\eta_b \\:f_b(x)]\n",
    "\\end{equation}"
   ]
  },
  {
   "cell_type": "code",
   "execution_count": 5,
   "metadata": {},
   "outputs": [],
   "source": [
    "traps = [\n",
    "        {\n",
    "            \"k_0\": 4.1e-7/(1.1e-10**2*6*6.3e28),\n",
    "            \"E_k\": 0.39,\n",
    "            \"p_0\": 1e13,\n",
    "            \"E_p\": 0.87,\n",
    "            \"density\": 1.3e-3*6.3e28,\n",
    "            \"materials\": [1]\n",
    "        },\n",
    "        {\n",
    "            \"k_0\": 4.1e-7/(1.1e-10**2*6*6.3e28),\n",
    "            \"E_k\": 0.39,\n",
    "            \"p_0\": 1e13,\n",
    "            \"E_p\": 1.0,\n",
    "            \"density\": 4e-4*6.3e28,\n",
    "            \"materials\": [1]\n",
    "        },\n",
    "        {\n",
    "            \"k_0\": 4.1e-7/(1.1e-10**2*6*6.3e28),\n",
    "            \"E_k\": 0.39,\n",
    "            \"p_0\": 1e13,\n",
    "            \"E_p\": 1.5,\n",
    "            \"materials\": [1],\n",
    "            \"type\": 'extrinsic',\n",
    "            \"form_parameters\":{\n",
    "                \"phi_0\": 2.5e19* (t <= 400),\n",
    "                \"n_amax\": 1e-1*6.3e28,\n",
    "                \"f_a\": distribution,\n",
    "                \"eta_a\": 6e-4,\n",
    "                \"n_bmax\": 1e-2*6.3e28,\n",
    "                \"f_b\": (x < 1e-6) * (x > 0) * (1/1e-6),\n",
    "                \"eta_b\": 2e-4,\n",
    "            }\n",
    "        }\n",
    "        ]\n",
    "\n",
    "parameters[\"traps\"] = traps"
   ]
  },
  {
   "cell_type": "markdown",
   "metadata": {},
   "source": [
    "### 1.5 Boundary conditions\n",
    "\n",
    "Boundary conditions (BCs) are defined as a list of dicts. BCs can be of several types in FESTIM, the most simple of them being the `\"dc\"` type where an analytical expression is given in `\"value\"`. The key `\"surface\"` contains a list of all the surfaces on which the BC is applied. If no BC is applied on a surface, it will be considered as a non flux surface (ie $\\frac{\\partial c}{\\partial\\textbf{n}} = 0$)"
   ]
  },
  {
   "cell_type": "code",
   "execution_count": 6,
   "metadata": {},
   "outputs": [],
   "source": [
    "boundary_conditions = [\n",
    "            {\n",
    "                \"surfaces\": [1, 2],\n",
    "                \"value\": 0,\n",
    "                \"type\": \"dc\"\n",
    "            },\n",
    "    ]\n",
    "\n",
    "parameters[\"boundary_conditions\"] = boundary_conditions"
   ]
  },
  {
   "cell_type": "markdown",
   "metadata": {},
   "source": [
    "### 1.6 Temperature\n",
    "\n",
    "Temperature has a major effect on HIs' behavior. It is once again defined as a dict. Temperature can be of several types (constant, expression) in FESTIM.\n",
    "\n",
    "In this example, temperature is constant from $t=0$ to $t=450 \\text{s}$ (implantation phase), then increases from $t=450 \\text{s}$ to $t=500 \\text{s}$ in order to perform the thermo-desorption (TDS phase).\n",
    "\n",
    "\\begin{equation}\n",
    "    T(t) =\n",
    "    \\begin{cases}\n",
    "        300, & \\text{if} \\: t < 450 \\\\\n",
    "        300 + 8(t - 450), & \\text{else}\n",
    "    \\end{cases}\n",
    "\\end{equation}\n",
    "\n",
    "$T$ is expressed in $\\text{K}$."
   ]
  },
  {
   "cell_type": "code",
   "execution_count": 7,
   "metadata": {},
   "outputs": [],
   "source": [
    "temperature = {\n",
    "    \"type\": \"expression\",\n",
    "    \"value\": 300 + (t > 450) * (8*(t-450))\n",
    "    }\n",
    "\n",
    "parameters[\"temperature\"] = temperature"
   ]
  },
  {
   "cell_type": "markdown",
   "metadata": {},
   "source": [
    "### 1.7 Solver parameters\n",
    "\n",
    "The first parameter is the final time of the simulation. As seen before, this run corresponds to a 450s implantation phase followed by 50s of TDS, which corresponds to a $500 \\text{s}$ final time.\n",
    "\n",
    "Then the initial stepsize is expressed in $\\text{s}$ in `\"initial_stepsize\"`.\n",
    "\n",
    "An adaptive stepsize algorithm has been implemented in order to save computational cost depending on the last timestep. The parameters of the algorithm are set in `\"adaptative_time_step\"`. `\"t_stop\"` is the time when we want the stepsize to be below a value set in `\"stepsize_stop_max\"` in order to have temporal refinement at the end of the run. `\"dt_min\"` is the lower limit for the stepsize below which the computation will stop.\n",
    "\n",
    "**Note**: a stepsize change ratio of 1 will disable the adaptive stepsize algorithm.\n",
    "\n",
    "The Newton solver used in FEniCS can be tweaked by setting the absolute and relative tolerances as well as the maximum number of iteration at each step."
   ]
  },
  {
   "cell_type": "code",
   "execution_count": 8,
   "metadata": {},
   "outputs": [],
   "source": [
    "solving_parameters = {\n",
    "    \"final_time\": 500,\n",
    "    \"initial_stepsize\": 0.5,\n",
    "    \"adaptive_stepsize\": {\n",
    "        \"stepsize_change_ratio\": 1.1,\n",
    "        \"t_stop\": 430,\n",
    "        \"stepsize_stop_max\": 0.5,\n",
    "        \"dt_min\": 1e-5\n",
    "    },\n",
    "    \"newton_solver\": {\n",
    "        \"absolute_tolerance\": 1e10,\n",
    "        \"relative_tolerance\": 1e-9,\n",
    "        \"maximum_iterations\": 50,\n",
    "    }\n",
    "}\n",
    "\n",
    "parameters[\"solving_parameters\"] = solving_parameters"
   ]
  },
  {
   "cell_type": "markdown",
   "metadata": {},
   "source": [
    "### 1.8 Exports\n",
    "\n",
    "The quantities exported by FESTIM are defined using a dict of dicts.\n",
    "\n",
    "Derived quantities such as total inventory can be computed for each timestep. In both cases, the fields to be exported are defined in `\"field\"` as a list of strings.\n",
    "\n",
    "`\"solute\"` refers to the mobile concentration of HIs, $i$ is the concentration of HIs trapped in trap $i$ and `\"retention\"` is the total ammount of HIs. `\"labels\"` will be the name of the exports files and can be anything we want.\n",
    "\n",
    "In the example below, all exports will be stored in the folder Solution_Ogorodnikova/."
   ]
  },
  {
   "cell_type": "code",
   "execution_count": 9,
   "metadata": {},
   "outputs": [],
   "source": [
    "folder = 'Solution_Ogorodnikova'\n",
    "\n",
    "exports = {\n",
    "    \"derived_quantities\": {\n",
    "        \"folder\": folder,\n",
    "        \"file\": \"derived_quantities.csv\",\n",
    "        \"total_volume\": [\n",
    "            {\n",
    "                \"field\": \"solute\",\n",
    "                \"volumes\": [1]\n",
    "            },\n",
    "            {\n",
    "                \"field\": 1,\n",
    "                \"volumes\": [1]\n",
    "            },\n",
    "            {\n",
    "                \"field\": 2,\n",
    "                \"volumes\": [1]\n",
    "            },\n",
    "            {\n",
    "                \"field\": 3,\n",
    "                \"volumes\": [1]\n",
    "            },\n",
    "            {\n",
    "                \"field\": \"retention\",\n",
    "                \"volumes\": [1]\n",
    "            },\n",
    "        ],\n",
    "        \"surface_flux\": [\n",
    "            {\n",
    "                \"field\": \"solute\",\n",
    "                \"surfaces\": [1, 2]\n",
    "            }\n",
    "        ]\n",
    "    },\n",
    "    \"xdmf\": {\n",
    "        \"functions\": ['solute', '1', '2', '3', 'retention'],\n",
    "        \"labels\":  ['solute', 'trap_1', 'trap_2',\n",
    "                    'trap_3', 'retention'],\n",
    "        \"folder\": folder\n",
    "    }\n",
    "}\n",
    "\n",
    "parameters[\"exports\"] = exports"
   ]
  },
  {
   "cell_type": "markdown",
   "metadata": {},
   "source": [
    "In the end, all the parameters needed for the simulation in FESTIM have been stored in the dict `parameters`, which we can preview for a final check:"
   ]
  },
  {
   "cell_type": "code",
   "execution_count": 10,
   "metadata": {},
   "outputs": [
    {
     "name": "stdout",
     "output_type": "stream",
     "text": [
      "mesh_parameters:{'size': 2e-05, 'initial_number_of_cells': 200, 'refinements': [{'cells': 300, 'x': 3e-06}, {'cells': 120, 'x': 3e-08}]}\n",
      "\n",
      "\n",
      "materials:[{'borders': [0, 2e-05], 'E_D': 0.39, 'D_0': 4.1e-07, 'id': 1}]\n",
      "\n",
      "\n",
      "source_term:{'value': 3.99043442233811e+27*exp(-0.5*(400000000.0*x[0] - 1.8)**2)*(t <= 400)}\n",
      "\n",
      "\n",
      "traps:[{'k_0': 8.964099873190784e-17, 'E_k': 0.39, 'p_0': 10000000000000.0, 'E_p': 0.87, 'density': 8.19e+25, 'materials': [1]}, {'k_0': 8.964099873190784e-17, 'E_k': 0.39, 'p_0': 10000000000000.0, 'E_p': 1.0, 'density': 2.52e+25, 'materials': [1]}, {'k_0': 8.964099873190784e-17, 'E_k': 0.39, 'p_0': 10000000000000.0, 'E_p': 1.5, 'materials': [1], 'type': 'extrinsic', 'form_parameters': {'phi_0': 2.5e+19*(t <= 400), 'n_amax': 6.3e+27, 'f_a': 159617376.893524*exp(-0.5*(400000000.0*x[0] - 1.8)**2), 'eta_a': 0.0006, 'n_bmax': 6.3e+26, 'f_b': 1000000.0*(x[0] < 1.0e-6)*(x[0] > 0), 'eta_b': 0.0002}}]\n",
      "\n",
      "\n",
      "boundary_conditions:[{'surfaces': [1, 2], 'value': 0, 'type': 'dc'}]\n",
      "\n",
      "\n",
      "temperature:{'type': 'expression', 'value': (8*t - 3600)*(t > 450) + 300}\n",
      "\n",
      "\n",
      "solving_parameters:{'final_time': 500, 'initial_stepsize': 0.5, 'adaptive_stepsize': {'stepsize_change_ratio': 1.1, 't_stop': 430, 'stepsize_stop_max': 0.5, 'dt_min': 1e-05}, 'newton_solver': {'absolute_tolerance': 10000000000.0, 'relative_tolerance': 1e-09, 'maximum_iterations': 50}}\n",
      "\n",
      "\n",
      "exports:{'derived_quantities': {'folder': 'Solution_Ogorodnikova', 'file': 'derived_quantities.csv', 'total_volume': [{'field': 'solute', 'volumes': [1]}, {'field': 1, 'volumes': [1]}, {'field': 2, 'volumes': [1]}, {'field': 3, 'volumes': [1]}, {'field': 'retention', 'volumes': [1]}], 'surface_flux': [{'field': 'solute', 'surfaces': [1, 2]}]}, 'xdmf': {'functions': ['solute', '1', '2', '3', 'retention'], 'labels': ['solute', 'trap_1', 'trap_2', 'trap_3', 'retention'], 'folder': 'Solution_Ogorodnikova'}}\n",
      "\n",
      "\n"
     ]
    }
   ],
   "source": [
    "for key, value in parameters.items():\n",
    "    print(str(key) + \":\" + str(value))\n",
    "    print('\\n')"
   ]
  },
  {
   "cell_type": "markdown",
   "metadata": {},
   "source": [
    "# 2. Running the simulation\n",
    "\n",
    "Now that all the parameters have been set, the simulation can be performed using the `run()` function which takes as only argument the dict `parameters`."
   ]
  },
  {
   "cell_type": "code",
   "execution_count": 11,
   "metadata": {},
   "outputs": [
    {
     "name": "stdout",
     "output_type": "stream",
     "text": [
      "Meshing ...\n",
      "Mesh size before local refinement is 200\n",
      "Mesh size after local refinement is 650\n",
      "Mesh size before local refinement is 650\n",
      "Mesh size after local refinement is 798\n",
      "Defining initial values\n",
      "Defining variational problem\n",
      "Defining source terms\n",
      "Defining boundary conditions\n",
      "Time stepping...\n",
      "\u0007s0.09 %        500.4 s    Ellapsed time so far: 98.0 s\n"
     ]
    }
   ],
   "source": [
    "from FESTIM.generic_simulation import run\n",
    "output = run(parameters)"
   ]
  },
  {
   "cell_type": "markdown",
   "metadata": {},
   "source": [
    "# 3. Output\n",
    "Now that the simulation is over, several objects such as the parameters dict, the mesh, the temperature and the desorption table  are stored in `output`.\n",
    "\n",
    "Let us see what `output` contains:"
   ]
  },
  {
   "cell_type": "code",
   "execution_count": 12,
   "metadata": {},
   "outputs": [
    {
     "name": "stdout",
     "output_type": "stream",
     "text": [
      "dict_keys(['parameters', 'mesh', 'derived_quantities'])\n"
     ]
    }
   ],
   "source": [
    "print(output.keys())"
   ]
  },
  {
   "cell_type": "markdown",
   "metadata": {},
   "source": [
    "The desorption spectrum (ie. desorption flux as function of time) calculated from post processing the total inventory of HIs (or by computing the particle flux at surface)."
   ]
  },
  {
   "cell_type": "code",
   "execution_count": 13,
   "metadata": {},
   "outputs": [
    {
     "name": "stdout",
     "output_type": "stream",
     "text": [
      "[['t(s)' 'Flux surface 1: solute' 'Flux surface 2: solute' ...,\n",
      "  'Total 2 volume 1' 'Total 3 volume 1' 'Total retention volume 1']\n",
      " ['0.5' '-1.8003123673249681e+19' '8.24049827741357e-289' ...,\n",
      "  '7.085268342907962e+17' '0.0' '3.0130806536754734e+18']\n",
      " ['0.9545454545454546' '-2.0574697579526296e+19' '5.6336587234102036e-288'\n",
      "  ..., '1.076319799160365e+18' '5645202052807881.0'\n",
      "  '4.5833147633973084e+18']\n",
      " ..., \n",
      " ['499.4466775686087' '-1.0914844211382854e+17' '-1.0707394455511414e+16'\n",
      "  ..., '1.215316051481056e+16' '1.3448667070145314e+17'\n",
      "  '1.532003712193223e+17']\n",
      " ['499.9466775686087' '-8.551743431211706e+16' '-7651203541457722.0' ...,\n",
      "  '8190567864063476.0' '9.38833283941153e+16' '1.0661588610809032e+17']\n",
      " ['500.4466775686087' '-6.471602232299296e+16' '-5432420070232520.0' ...,\n",
      "  '5442046253431038.0' '6.299894708601826e+16' '7.154155016673426e+16']]\n"
     ]
    }
   ],
   "source": [
    "import numpy as np\n",
    "np.set_printoptions(threshold=20)\n",
    "print(np.array(output[\"derived_quantities\"]))"
   ]
  },
  {
   "cell_type": "code",
   "execution_count": 14,
   "metadata": {},
   "outputs": [
    {
     "data": {
      "image/png": "[encoded data removed]",
      "text/plain": [
       "<Figure size 432x288 with 1 Axes>"
      ]
     },
     "metadata": {
      "needs_background": "light"
     },
     "output_type": "display_data"
    }
   ],
   "source": [
    "# compute total flux and trap contributions\n",
    "derived_quantities = np.array(output[\"derived_quantities\"][1:])\n",
    "\n",
    "t = derived_quantities[:, 0]\n",
    "flux_left = derived_quantities[:, 1]\n",
    "flux_right = derived_quantities[:, 2]\n",
    "flux_total = -flux_left - flux_right\n",
    "\n",
    "contribution_trap_1 = -np.diff(derived_quantities[:, 4])/np.diff(t)\n",
    "contribution_trap_2 = -np.diff(derived_quantities[:, 5])/np.diff(t)\n",
    "contribution_trap_3 = -np.diff(derived_quantities[:, 6])/np.diff(t)\n",
    "\n",
    "# plot\n",
    "import matplotlib.pyplot as plt\n",
    "plt.plot(t, flux_total, linewidth=3)\n",
    "plt.plot(t[1:], contribution_trap_1, linestyle=\"--\", color=\"grey\")\n",
    "plt.fill_between(t[1:], 0, contribution_trap_1, facecolor='grey', alpha=0.1)\n",
    "plt.plot(t[1:], contribution_trap_2, linestyle=\"--\", color=\"grey\")\n",
    "plt.fill_between(t[1:], 0, contribution_trap_2, facecolor='grey', alpha=0.1)\n",
    "plt.plot(t[1:], contribution_trap_3, linestyle=\"--\", color=\"grey\")\n",
    "plt.fill_between(t[1:], 0, contribution_trap_3, facecolor='grey', alpha=0.1)\n",
    "\n",
    "plt.xlim(450, 500)\n",
    "plt.ylim(bottom=-1.25e18, top=0.6e19)\n",
    "plt.ylabel(r\"Desorption flux (m$^{-2}$ s$^{-1}$)\")\n",
    "plt.xlabel(r\"Time (s)\")\n",
    "plt.minorticks_on()\n",
    "plt.grid(which='minor', alpha=0.3)\n",
    "plt.grid(which='major', alpha=0.7)\n",
    "plt.show()"
   ]
  }
 ],
 "metadata": {
  "file_extension": ".py",
  "kernelspec": {
   "display_name": "Python 3",
   "language": "python",
   "name": "python3"
  },
  "language_info": {
   "codemirror_mode": {
    "name": "ipython",
    "version": 3
   },
   "file_extension": ".py",
   "mimetype": "text/x-python",
   "name": "python",
   "nbconvert_exporter": "python",
   "pygments_lexer": "ipython3",
   "version": "3.6.9"
  },
  "mimetype": "text/x-python",
  "name": "python",
  "npconvert_exporter": "python",
  "pygments_lexer": "ipython3",
  "version": 3
 },
 "nbformat": 4,
 "nbformat_minor": 2
}
