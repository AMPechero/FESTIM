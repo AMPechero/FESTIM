{
 "cells": [
  {
   "cell_type": "markdown",
   "metadata": {},
   "source": [
    " In this tutorial, we will demonstrate how to implement a time-dependent simulation of hydrogen isotopes diffusion-trapping followed by Thermal Desorption Spectrometry (TDS). The aim is to replicate the experimental results presented in [Ogorodnikova _et al_ (J. Nucl. Mater. 313-316 (2003) 469-477.)](https://www.sciencedirect.com/science/article/pii/S0022311502013752?via%3Dihub) using FESTIM."
   ]
  },
  {
   "cell_type": "markdown",
   "metadata": {},
   "source": [
    "# 1. Setting the parameters,\n",
    "The function `run()` in FESTIM takes as an argument a dictionary (dict) of parameters. The first step is to create an empty dict.  The parameters needed for the simulation are added in the following steps."
   ]
  },
  {
   "cell_type": "code",
   "execution_count": null,
   "metadata": {},
   "outputs": [],
   "source": [
    "import FESTIM as F\n",
    "\n",
    "my_model = F.Simulation()"
   ]
  },
  {
   "cell_type": "markdown",
   "metadata": {},
   "source": [
    "FESTIM provides a simple way to define refined meshes.\n",
    "The size of the 1D domain we wish to mesh is set in `\"size\"` and is expressed in $\\text{m}$. In our case, we simulate a $20 \\: \\mu \\text{m}$ slab. We start with a broad mesh of 200 cells and then iteratively refine it.\n",
    "The following code performs a first refinement within the first $3 \\: \\mu \\text{m}$ in order to have at least 300 cells in this region. We will do the same for the first $30 \\: \\text{nm}$ where we want at least 120 cells."
   ]
  },
  {
   "cell_type": "code",
   "execution_count": null,
   "metadata": {},
   "outputs": [],
   "source": [
    "my_model.mesh = F.MeshFromRefinements(\n",
    "    initial_number_of_cells=200,\n",
    "    size=20e-06,\n",
    "    refinements=[\n",
    "        {\n",
    "            \"cells\": 300,\n",
    "            \"x\": 3e-6\n",
    "        },\n",
    "        {\n",
    "            \"cells\": 120,\n",
    "             \"x\": 30e-9\n",
    "                    }\n",
    "    ]\n",
    ")"
   ]
  },
  {
   "cell_type": "markdown",
   "metadata": {},
   "source": [
    "### 1.2 Material properties\n",
    "The materials are defined as a list of dict. In our case, we have only one material (tungsten), the list will therefore have only one element.\n",
    "\n",
    "\n",
    "`\"borders\"` represents the boundaries of the 1D domain in $\\text{m}$.\n",
    "`\"E_D\"` is the energy barrier for diffusion expressed in $\\text{eV}$.\n",
    "`\"D_0\"` is the pre-exponential factor of the Arhenius' law for the diffusion coefficient expressed in $\\text{m}^{2}\\text{s}^{-1}$.\n",
    "Diffusion coefficient is expressed as:\n",
    "\\begin{equation}\n",
    "    D(T) = D_{0} e^{\\frac{-E_{diff}}{k_B \\cdot T}}\n",
    "\\end{equation}\n",
    "\n",
    "where $T$ is the temperature in $\\text{K}$ and $k_B = 8.6\\times 10 ^{-5} \\: \\text{eV/K}$ the Boltzmann constant.\n",
    "\n",
    "Finally, `\"id\"` is the id of the material subdomain. In this case, there is only one.\""
   ]
  },
  {
   "cell_type": "code",
   "execution_count": null,
   "metadata": {},
   "outputs": [],
   "source": [
    "mat = F.Material(\n",
    "    id=1,\n",
    "    D_0=4.1e-07,\n",
    "    E_D=0.39,\n",
    "    borders=[0, 20e-06]\n",
    ")\n",
    "my_model.materials = F.Materials([mat])"
   ]
  },
  {
   "cell_type": "markdown",
   "metadata": {},
   "source": [
    "### 1.3 Volumetric source term\n",
    "We define next the volumetric source term for the simulation as a dict.\n",
    "First we import the sympy package needed to handle the source term as a sympy object in FESTIM.\n",
    "\n",
    "The source term is defined as:\n",
    "\\begin{equation}\n",
    "    S_{ext} = \\varphi \\cdot f(x) \\quad \\forall t<400 \\text{s}\n",
    "\\end{equation}\n",
    "\n",
    "where $\\varphi =2.5 \\times 10^{19} \\text{m}^{-2}\\text{s}^{-1}$ and $f(x)$ is a Gaussian spatial distribution with a mean value of $4.5 \\: \\text{nm}$ and a width of $2.5 \\: \\text{nm}$.\n",
    "\n",
    "Above, `t` and `x` are built-in variables that respectively represent time in $\\text{s}$ and the $x$ position in $\\text{m}$."
   ]
  },
  {
   "cell_type": "code",
   "execution_count": null,
   "metadata": {},
   "outputs": [],
   "source": [
    "import sympy as sp\n",
    "\n",
    "center = 4.5e-9\n",
    "width = 2.5e-9\n",
    "distribution = 1/(width*(2*3.14)**0.5) * sp.exp(-0.5*((F.x-center)/width)**2)\n",
    "\n",
    "source_term = F.Source(\n",
    "    value=2.5e19 *distribution* (F.t <= 400),\n",
    "    volume=1,\n",
    "    field=\"solute\"\n",
    ")\n",
    "\n",
    "my_model.sources = [source_term]"
   ]
  },
  {
   "cell_type": "markdown",
   "metadata": {},
   "source": [
    "### 1.4 Traps\n",
    "\n",
    "In FESTIM, each trap is defined by a dictionary with the following keys:\n",
    "\n",
    "`\"k_0\"` and `\"E_k\"` are the trapping rate pre-exponential factor in $\\text{m}^{3} \\text{s}^{-1}$ and activation energy in $\\text{eV}$.\n",
    "\n",
    "`\"p_0\"` and `\"E_p\"` are the detrapping rate pre-exponential factor in $\\text{s}^{-1}$ and activation energy in $\\text{eV}$.\n",
    "\n",
    "`\"materials\"` is a list of the materials' ids where the trap is.\n",
    "\n",
    "`\"type\"` is the trap type.\n",
    "\n",
    "In FESTIM, traps are intrinsic by default. However, traps can also be implemented as extrinsic, as shown in the example hereafter corresponding to 2 intrinsic traps and 1 extrinsic trap.\n",
    "\n",
    "The time evolution of extrinsic traps density $n_i$ expressed in $\\text{m}^{-3}$ is defined as:\n",
    "\\begin{equation}\n",
    "    \\frac{dn_i}{dt} = \\varphi_0\\:[(1-\\frac{n_i}{n_{a_{max}}})\\:\\eta_a \\:f_a(x)+(1-\\frac{n_i}{n_{b_{max}}})\\:\\eta_b \\:f_b(x)]\n",
    "\\end{equation}"
   ]
  },
  {
   "cell_type": "code",
   "execution_count": null,
   "metadata": {},
   "outputs": [],
   "source": [
    "trap_1 = F.Trap(\n",
    "        k_0=8.96-17,\n",
    "        E_k=0.39,\n",
    "        p_0=1e13,\n",
    "        E_p=0.87,\n",
    "        density=8.19e+25,\n",
    "        materials=1\n",
    "    )\n",
    "trap_2 = F.Trap(\n",
    "        k_0=8.96-17,\n",
    "        E_k=0.39,\n",
    "        p_0=1e13,\n",
    "        E_p=0.87,\n",
    "        density=2.52e+25,\n",
    "        materials=1\n",
    "    )\n",
    "trap_3 = F.ExtrinsicTrap(\n",
    "        k_0=8.96-17,\n",
    "        E_k=0.39,\n",
    "        p_0=1e13,\n",
    "        E_p=0.87,\n",
    "        form_parameters={\n",
    "            \"phi_0\": 2.5e19 * (F.t <= 400),\n",
    "            \"n_amax\": 6.3e27,\n",
    "            \"f_a\": distribution,\n",
    "            \"eta_a\": 6e-4,\n",
    "            \"n_bmax\": 6.3e+26,\n",
    "            \"f_b\": (F.x < 1e-6) * (F.x > 0) * 1e6,\n",
    "            \"eta_b\": 2e-4,\n",
    "        },\n",
    "        materials=1\n",
    "    )\n",
    "\n",
    "my_model.traps = F.Traps([trap_1, trap_2, trap_3])"
   ]
  },
  {
   "cell_type": "markdown",
   "metadata": {},
   "source": [
    "### 1.5 Boundary conditions\n",
    "\n",
    "Boundary conditions (BCs) are defined as a list of dicts. BCs can be of several types in FESTIM, the most simple of them being the `\"dc\"` type where an analytical expression is given in `\"value\"`. The key `\"surface\"` contains a list of all the surfaces on which the BC is applied. If no BC is applied on a surface, it will be considered as a non flux surface (ie $\\frac{\\partial c}{\\partial\\textbf{n}} = 0$)"
   ]
  },
  {
   "cell_type": "code",
   "execution_count": null,
   "metadata": {},
   "outputs": [],
   "source": [
    "my_model.boundary_conditions = [\n",
    "    F.DirichletBC(\n",
    "        surfaces=[1, 2],\n",
    "        value=0\n",
    "    )\n",
    "]"
   ]
  },
  {
   "cell_type": "markdown",
   "metadata": {},
   "source": [
    "### 1.6 Temperature\n",
    "\n",
    "Temperature has a major effect on HIs' behavior. It is once again defined as a dict. Temperature can be of several types (constant, expression) in FESTIM.\n",
    "\n",
    "In this example, temperature is constant from $t=0$ to $t=450 \\text{s}$ (implantation phase), then increases from $t=450 \\text{s}$ to $t=500 \\text{s}$ in order to perform the thermo-desorption (TDS phase).\n",
    "\n",
    "\\begin{equation}\n",
    "    T(t) =\n",
    "    \\begin{cases}\n",
    "        300, & \\text{if} \\: t < 450 \\\\\n",
    "        300 + 8(t - 450), & \\text{else}\n",
    "    \\end{cases}\n",
    "\\end{equation}\n",
    "\n",
    "$T$ is expressed in $\\text{K}$."
   ]
  },
  {
   "cell_type": "code",
   "execution_count": null,
   "metadata": {},
   "outputs": [],
   "source": [
    "my_model.T = F.Temperature(\n",
    "    value=300 + (F.t > 450) * (8*(F.t-450))\n",
    ")"
   ]
  },
  {
   "cell_type": "markdown",
   "metadata": {},
   "source": [
    "### 1.7 Solver parameters\n",
    "\n",
    "The first parameter is the final time of the simulation. As seen before, this run corresponds to a 450s implantation phase followed by 50s of TDS, which corresponds to a $500 \\text{s}$ final time.\n",
    "\n",
    "Then the initial stepsize is expressed in $\\text{s}$ in `\"initial_stepsize\"`.\n",
    "\n",
    "An adaptive stepsize algorithm has been implemented in order to save computational cost depending on the last timestep. The parameters of the algorithm are set in `\"adaptative_time_step\"`. `\"t_stop\"` is the time when we want the stepsize to be below a value set in `\"stepsize_stop_max\"` in order to have temporal refinement at the end of the run. `\"dt_min\"` is the lower limit for the stepsize below which the computation will stop.\n",
    "\n",
    "**Note**: a stepsize change ratio of 1 will disable the adaptive stepsize algorithm.\n",
    "\n",
    "The Newton solver used in FEniCS can be tweaked by setting the absolute and relative tolerances as well as the maximum number of iteration at each step."
   ]
  },
  {
   "cell_type": "code",
   "execution_count": null,
   "metadata": {},
   "outputs": [],
   "source": [
    "my_model.dt = F.Stepsize(\n",
    "    initial_value=0.5,\n",
    "    stepsize_change_ratio=1.1,\n",
    "    t_stop=430,\n",
    "    stepsize_stop_max=0.5,\n",
    "    dt_min=1e-05\n",
    ")\n",
    "\n",
    "my_model.settings = F.Settings(\n",
    "    absolute_tolerance=1e10,\n",
    "    relative_tolerance=1e-09,\n",
    "    final_time=500\n",
    ")"
   ]
  },
  {
   "cell_type": "markdown",
   "metadata": {},
   "source": [
    "### 1.8 Exports\n",
    "\n",
    "The quantities exported by FESTIM are defined using a dict of dicts.\n",
    "\n",
    "Derived quantities such as total inventory can be computed for each timestep. In both cases, the fields to be exported are defined in `\"field\"` as a list of strings.\n",
    "\n",
    "`\"solute\"` refers to the mobile concentration of HIs, $i$ is the concentration of HIs trapped in trap $i$ and `\"retention\"` is the total ammount of HIs. `\"labels\"` will be the name of the exports files and can be anything we want.\n",
    "\n",
    "In the example below, all exports will be stored in the folder Solution_Ogorodnikova/."
   ]
  },
  {
   "cell_type": "code",
   "execution_count": null,
   "metadata": {},
   "outputs": [],
   "source": [
    "my_derived_quantities = F.DerivedQuantities(\n",
    "    file=\"derived_quantities.csv\",\n",
    "    folder=\"Solution_Ogorodnikova\"\n",
    ")\n",
    "\n",
    "my_derived_quantities.derived_quantities = [\n",
    "    F.TotalVolume(\"solute\", volume=1),\n",
    "    F.TotalVolume(\"retention\", volume=1),\n",
    "    F.TotalVolume(\"1\", volume=1),\n",
    "    F.TotalVolume(\"2\", volume=2),\n",
    "    F.TotalVolume(\"3\", volume=3),\n",
    "    F.HydrogenFlux(surface=1),\n",
    "    F.HydrogenFlux(surface=2)\n",
    "]\n",
    "\n",
    "my_model.exports = F.Exports([\n",
    "    F.XDMFExport(\"solute\", label=\"solute\", folder=\"Solution_Ogorodnikova\"),\n",
    "    F.XDMFExport(\"1\", label=\"1\", folder=\"Solution_Ogorodnikova\"),\n",
    "    F.XDMFExport(\"2\", label=\"2\", folder=\"Solution_Ogorodnikova\"),\n",
    "    F.XDMFExport(\"3\", label=\"3\", folder=\"Solution_Ogorodnikova\"),\n",
    "    F.XDMFExport(\"retention\", label=\"retention\", folder=\"Solution_Ogorodnikova\"),\n",
    "    my_derived_quantities\n",
    "])"
   ]
  },
  {
   "cell_type": "markdown",
   "metadata": {},
   "source": [
    "# 2. Running the simulation\n",
    "\n",
    "Now that all the parameters have been set, the simulation can be performed using the `run()` function which takes as only argument the dict `parameters`."
   ]
  },
  {
   "cell_type": "code",
   "execution_count": null,
   "metadata": {},
   "outputs": [],
   "source": [
    "my_model.initialise()\n",
    "my_model.run()"
   ]
  },
  {
   "cell_type": "markdown",
   "metadata": {},
   "source": [
    "# 3. Output"
   ]
  },
  {
   "cell_type": "markdown",
   "metadata": {},
   "source": [
    "The desorption spectrum (ie. desorption flux as function of time) can be calculated by using the derived quantities as follow."
   ]
  },
  {
   "cell_type": "code",
   "execution_count": null,
   "metadata": {},
   "outputs": [],
   "source": [
    "import numpy as np\n",
    "\n",
    "np.set_printoptions(threshold=20)\n",
    "print(np.array(my_derived_quantities.data))"
   ]
  },
  {
   "cell_type": "code",
   "execution_count": null,
   "metadata": {},
   "outputs": [],
   "source": [
    "# compute total flux and trap contributions\n",
    "derived_quantities = np.array(output[\"derived_quantities\"][1:])\n",
    "\n",
    "t = derived_quantities[:, 0]\n",
    "flux_left = derived_quantities[:, 1]\n",
    "flux_right = derived_quantities[:, 2]\n",
    "flux_total = -flux_left - flux_right\n",
    "\n",
    "contribution_trap_1 = -np.diff(derived_quantities[:, 4])/np.diff(t)\n",
    "contribution_trap_2 = -np.diff(derived_quantities[:, 5])/np.diff(t)\n",
    "contribution_trap_3 = -np.diff(derived_quantities[:, 6])/np.diff(t)\n",
    "\n",
    "# plot\n",
    "import matplotlib.pyplot as plt\n",
    "plt.plot(t, flux_total, linewidth=3)\n",
    "plt.plot(t[1:], contribution_trap_1, linestyle=\"--\", color=\"grey\")\n",
    "plt.fill_between(t[1:], 0, contribution_trap_1, facecolor='grey', alpha=0.1)\n",
    "plt.plot(t[1:], contribution_trap_2, linestyle=\"--\", color=\"grey\")\n",
    "plt.fill_between(t[1:], 0, contribution_trap_2, facecolor='grey', alpha=0.1)\n",
    "plt.plot(t[1:], contribution_trap_3, linestyle=\"--\", color=\"grey\")\n",
    "plt.fill_between(t[1:], 0, contribution_trap_3, facecolor='grey', alpha=0.1)\n",
    "\n",
    "plt.xlim(450, 500)\n",
    "plt.ylim(bottom=-1.25e18, top=0.6e19)\n",
    "plt.ylabel(r\"Desorption flux (m$^{-2}$ s$^{-1}$)\")\n",
    "plt.xlabel(r\"Time (s)\")\n",
    "plt.minorticks_on()\n",
    "plt.grid(which='minor', alpha=0.3)\n",
    "plt.grid(which='major', alpha=0.7)"
   ]
  }
 ],
 "metadata": {
  "file_extension": ".py",
  "kernelspec": {
   "display_name": "Python 3",
   "language": "python",
   "name": "python3"
  },
  "language_info": {
   "codemirror_mode": {
    "name": "ipython",
    "version": 3
   },
   "file_extension": ".py",
   "mimetype": "text/x-python",
   "name": "python",
   "nbconvert_exporter": "python",
   "pygments_lexer": "ipython3",
   "version": "3.6.9"
  },
  "mimetype": "text/x-python",
  "name": "python",
  "npconvert_exporter": "python",
  "pygments_lexer": "ipython3",
  "version": 3
 },
 "nbformat": 4,
 "nbformat_minor": 2
}
