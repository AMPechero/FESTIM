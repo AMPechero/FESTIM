{
 "cells": [
  {
   "cell_type": "markdown",
   "metadata": {},
   "source": [
    "# Coupling heat transfer simulations\n",
    "\n",
    "In this demo, we will perform a H transport simulation with coupled heat transfer on a hollow rectangle.\n",
    "\n",
    "\n",
    "## 1. Problem definition\n",
    "\n",
    " <p align=\"center\">\n",
    "  <img src=\"https://user-images.githubusercontent.com/40028739/105063118-a293bb00-5a7b-11eb-9f55-30b627f4b173.jpg\" width=\"40%\">\n",
    "</p>\n",
    "\n",
    "\n",
    "- $D(T) = 4.1\\times 10^{-7} \\exp{(-0.39/k_B T)}$\n",
    "- Trap:\n",
    "    - Density: $n = \\times 10^{25} \\text{ m}^{-3}$\n",
    "    - Trapping rate: $k(T) = 3.8 \\times 10^{-17} \\exp{(-0.39/k_B T)} \\text{ s}^{-1}$\n",
    "    - Detrapping rate: $p(T) = 8.4\\times 10^{12} \\exp{(-1.2/k_B T)} \\text{ s}^{-1}$\n",
    "\n",
    "\n",
    "Boundary conditions:\n",
    "\n",
    "- $c_\\mathrm{m} = 10^{19} (1 + \\cos(x)) \\; \\mathrm{m}^{-3} \\text{  on } \\Gamma_\\mathrm{left}, \\Gamma_\\mathrm{top}, \\Gamma_\\mathrm{right}$\n",
    "- $-D \\nabla c_\\mathrm{m} \\cdot n = -K c_\\mathrm{m}^2 \\text{  on }\\Gamma_\\mathrm{right}$\n",
    "with $K = 10^{-7} \\exp{(-1/k_B T)} \\; \\mathrm{m}^4 \\mathrm{s}^{-1}$\n",
    "- $-D \\nabla c_\\mathrm{m} \\cdot n = 0 \\text{  else}$\n",
    "\n",
    "The objective of this demo is to couple heat transfer simulations.\n",
    "\n",
    "The following heat equation will be solved:\n",
    "\n",
    "\\begin{equation}\n",
    "    \\nabla( \\lambda \\nabla T) + Q = 0\n",
    "\\end{equation}\n",
    "where $T$ is the temperature in $\\text{K}$.\n",
    "\n",
    "With:\n",
    "- $\\lambda = 3 + 0.1 T$ the thermal conductivity in $\\text{W/m/K}$\n",
    "- $Q=1+0.1 x$ the volumetric heat source in $\\text{W/m}^3$.\n",
    "- $-\\lambda \\nabla T \\cdot n = 10+3\\cos(x) + \\sin(y) \\text{  on }\\Gamma_\\mathrm{right}, \\Gamma_\\mathrm{bottom}$\n",
    "- $-\\lambda \\nabla T \\cdot n = -h (T - T_\\mathrm{ext}) \\text{  on }\\Gamma_\\mathrm{circle}$\n",
    "with $h=100x$ the heat exchange coefficient in $\\text{W/m}^2\\text{/K}$  and $T_\\mathrm{ext}=300 + 3y$ the external temperature in $\\text{K}$\n",
    "- $T = 350 + 20\\cos{x}\\sin{y} \\text{  on }\\Gamma_\\mathrm{left}, \\Gamma_\\mathrm{top}$"
   ]
  },
  {
   "cell_type": "markdown",
   "metadata": {},
   "source": [
    "## 2. Implementation\n",
    "The first step is to create an Simulation object"
   ]
  },
  {
   "cell_type": "code",
   "execution_count": null,
   "metadata": {},
   "outputs": [],
   "source": [
    "import FESTIM as F\n",
    "\n",
    "my_model = F.Simulation(log_level=30)"
   ]
  },
  {
   "cell_type": "markdown",
   "metadata": {},
   "source": [
    "### 2.1 Materials.\n",
    "Since we want to couple the heat transfer simulation, the thermal conductivity needs to be provided.\n",
    "\n",
    "In our example, the thermal conductivity is depending on the temperature.\n",
    "\n",
    "Note: when solving the transient heat equation, two additionnal keys need to be provided. The keys `\"heat_capacity\"` and `\"rho\"` for the heat capacity in $\\text{J/kg/K}$ and the density in $\\text{kg/m}^3$"
   ]
  },
  {
   "cell_type": "code",
   "execution_count": null,
   "metadata": {},
   "outputs": [],
   "source": [
    "def thermal_cond(T):\n",
    "    return 3 + 0.1*T\n",
    "\n",
    "my_model.materials = F.Materials([\n",
    "    F.Material(\n",
    "        id=1,\n",
    "        D_0=4.1e-7,\n",
    "        E_D=0.39,\n",
    "        thermal_cond=thermal_cond\n",
    "    )\n",
    "])"
   ]
  },
  {
   "cell_type": "markdown",
   "metadata": {},
   "source": [
    "### 2.2 Meshing\n",
    "The mesh will be created with FEniCS."
   ]
  },
  {
   "cell_type": "code",
   "execution_count": null,
   "metadata": {},
   "outputs": [],
   "source": [
    "from fenics import Point, CompiledSubDomain, MeshFunction, plot\n",
    "from mshr import Rectangle, Circle, generate_mesh\n",
    "# creating a mesh with FEniCS\n",
    "lx = ly = 10\n",
    "cx = cy = lx / 2.0\n",
    "radius = 2.5\n",
    "res = 40\n",
    "rectangle = Rectangle(Point(0, 0), Point(lx, ly))\n",
    "hole = Circle(Point(cx, cy), radius)\n",
    "mesh_fenics = generate_mesh(rectangle - hole, res)\n",
    "\n",
    "# marking physical groups (volumes and surfaces)\n",
    "volume_markers = MeshFunction(\"size_t\", mesh_fenics, mesh_fenics.topology().dim())\n",
    "volume_markers.set_all(1)\n",
    "\n",
    "tol = 1e-14\n",
    "left_surface = CompiledSubDomain('on_boundary && near(x[0], 0, tol)',\n",
    "                                tol=tol)\n",
    "right_surface = CompiledSubDomain('on_boundary && near(x[0], lx, tol)',\n",
    "                                     tol=tol, lx=lx)\n",
    "top_surface = CompiledSubDomain('on_boundary && near(x[1], ly, tol)',\n",
    "                                     tol=tol, ly=ly)\n",
    "bottom_surface = CompiledSubDomain('on_boundary && near(x[1], 0, tol)',\n",
    "                                     tol=tol)\n",
    "surface_markers = MeshFunction(\"size_t\", mesh_fenics, mesh_fenics.topology().dim() - 1)\n",
    "surface_markers.set_all(0)  # gamma_circle\n",
    "left_surface.mark(surface_markers, 1)\n",
    "top_surface.mark(surface_markers, 2)\n",
    "right_surface.mark(surface_markers, 3)\n",
    "bottom_surface.mark(surface_markers, 4)\n",
    "\n",
    "# creating mesh with FESTIM\n",
    "my_model.mesh = F.Mesh(\n",
    "    mesh=mesh_fenics,\n",
    "    volume_markers=volume_markers,\n",
    "    surface_markers=surface_markers\n",
    ")\n"
   ]
  },
  {
   "cell_type": "markdown",
   "metadata": {},
   "source": [
    "### 2.3 Traps\n",
    "`\"k_0\"` and `\"E_k\"` are the trapping rate pre-exponential factor in $\\text{m}^{3} \\text{s}^{-1}$ and activation energy in $\\text{eV}$.\n",
    "\n",
    "`\"p_0\"` and `\"E_p\"` are the detrapping rate pre-exponential factor in $\\text{s}^{-1}$ and activation energy in $\\text{eV}$.\n",
    "\n",
    "`\"materials\"` is a list of the materials' ids where the trap is."
   ]
  },
  {
   "cell_type": "code",
   "execution_count": null,
   "metadata": {},
   "outputs": [],
   "source": [
    "my_model.traps = F.Traps([\n",
    "    F.Trap(\n",
    "        k_0=3.8e-17,\n",
    "        E_k=0.39,\n",
    "        p_0=8.4e12,\n",
    "        E_p=0.9,\n",
    "        density=1e25,\n",
    "        materials=1)\n",
    "])"
   ]
  },
  {
   "cell_type": "markdown",
   "metadata": {},
   "source": [
    "### 2.4 Temperature\n",
    "The temperature field will be computed from solving the heat transfer equation.\n",
    "Similarly to H transport problems, boundary conditions and source terms must be provided.\n",
    "\n",
    "To solve a stationary problem, the key `\"type\"` needs to be set to `\"solve_stationary\"`."
   ]
  },
  {
   "cell_type": "code",
   "execution_count": null,
   "metadata": {},
   "outputs": [],
   "source": [
    "import sympy as sp\n",
    "\n",
    "my_model.T = F.HeatTransferProblem(\n",
    "    transient=False,\n",
    ")\n",
    "\n",
    "my_model.sources = [\n",
    "    F.Source(\n",
    "        value=1 + 0.1*F.x,\n",
    "        volume=1,\n",
    "        field=\"T\"\n",
    "    )]\n",
    "\n",
    "heat_transfer_bcs = [\n",
    "    F.DirichletBC(\n",
    "        surfaces=[1, 2],\n",
    "        value=350 + 20*sp.cos(F.x)*sp.sin(F.y),\n",
    "        component=\"T\"\n",
    "    ),\n",
    "    F.ConvectiveFlux(\n",
    "        surfaces=0,\n",
    "        h_coeff=100*F.x,\n",
    "        T_ext=300 + 3*F.y\n",
    "    ),\n",
    "    F.FluxBC(\n",
    "        surfaces=[3, 4],\n",
    "        value=10 + 3*sp.cos(F.x) + sp.sin(F.y)\n",
    "    )\n",
    "]"
   ]
  },
  {
   "cell_type": "markdown",
   "metadata": {},
   "source": [
    "### 2.5 Boundary conditions"
   ]
  },
  {
   "cell_type": "code",
   "execution_count": null,
   "metadata": {},
   "outputs": [],
   "source": [
    "tritium_transport_bcs = [\n",
    "    F.DirichletBC(\n",
    "        surfaces=[1, 2, 3],\n",
    "        value=1e19*(1 + sp.cos(F.x)),\n",
    "    ),\n",
    "    F.RecombinationFlux(\n",
    "        Kr_0=1e-07,\n",
    "        E_Kr=1,\n",
    "        order=2,\n",
    "        surfaces=0\n",
    "    )\n",
    "]\n",
    "\n",
    "my_model.boundary_conditions = heat_transfer_bcs + tritium_transport_bcs"
   ]
  },
  {
   "cell_type": "markdown",
   "metadata": {},
   "source": [
    "### 2.6 Exports\n",
    "The fields will be exported as XDMF files."
   ]
  },
  {
   "cell_type": "code",
   "execution_count": null,
   "metadata": {},
   "outputs": [],
   "source": [
    "my_model.exports = F.Exports([\n",
    "    F.XDMFExport(\"1\", label=\"1\", folder=\"outputs\"),\n",
    "    F.XDMFExport(\"solute\", label=\"solute\", folder=\"outputs\"),\n",
    "    F.XDMFExport(\"retention\", label=\"retnetion\", folder=\"outputs\"),\n",
    "    F.XDMFExport(\"T\", label=\"T\", folder=\"outputs\")\n",
    "    ])"
   ]
  },
  {
   "cell_type": "markdown",
   "metadata": {},
   "source": [
    "### 2.7 Solving parameters\n",
    "In order to solve the stationary problem, the key `\"type\"` has to be set to `\"solve_stationary\"`."
   ]
  },
  {
   "cell_type": "code",
   "execution_count": null,
   "metadata": {},
   "outputs": [],
   "source": [
    "my_model.settings = F.Settings(\n",
    "    transient=False,\n",
    "    absolute_tolerance=1e-09,\n",
    "    relative_tolerance=1e-09,\n",
    "    final_time=50\n",
    ")"
   ]
  },
  {
   "cell_type": "markdown",
   "metadata": {},
   "source": [
    "### 2.8 Run the simulation"
   ]
  },
  {
   "cell_type": "code",
   "execution_count": null,
   "metadata": {},
   "outputs": [],
   "source": [
    "my_model.initialise()\n",
    "my_model.run()"
   ]
  },
  {
   "cell_type": "markdown",
   "metadata": {},
   "source": [
    "## 3. Post-processing "
   ]
  },
  {
   "cell_type": "code",
   "execution_count": null,
   "metadata": {},
   "outputs": [],
   "source": [
    "from fenics import XDMFFile, FunctionSpace, Function, plot\n",
    "import matplotlib.pyplot as plt\n",
    "\n",
    "\n",
    "def load_field(mesh, fieldfile, field, element=\"CG\", counter=-1):\n",
    "\n",
    "    V = FunctionSpace(mesh, element, 1)\n",
    "    u = Function(V)\n",
    "\n",
    "    XDMFFile(fieldfile).read_checkpoint(u, field, counter)\n",
    "    return u\n",
    "\n",
    "\n",
    "# get the mesh from the model\n",
    "mesh = my_model.mesh.mesh\n",
    "\n",
    "# read the solutions\n",
    "T = load_field(mesh, \"outputs/T.xdmf\", \"T\")\n",
    "solute = load_field(mesh, \"outputs/solute.xdmf\", \"solute\", element=\"DG\")\n",
    "trap1 = load_field(mesh, \"outputs/1.xdmf\", \"1\")\n",
    "retention = load_field(mesh, \"outputs/retention.xdmf\", \"retention\")\n",
    "\n",
    "# plot\n",
    "plt.figure(figsize=(15, 10))\n",
    "\n",
    "# plot temperature\n",
    "plt.subplot(1, 2, 1)\n",
    "CF = plot(T, cmap=\"inferno\", levels=100)\n",
    "plot(mesh, color=\"white\", alpha=0.2)\n",
    "CS = plot(T, mode=\"contour\", colors=\"white\", levels=10)\n",
    "CL = plt.clabel(CS, inline=True, fmt='%.f')\n",
    "CB = plt.colorbar(CF, shrink=0.6, label=\"Temperature (K)\")\n",
    "\n",
    "# plot solute concentration\n",
    "plt.subplot(2, 2, 2)\n",
    "CF = plot(solute, levels=100)\n",
    "CS = plot(solute, mode=\"contour\", colors=\"white\", levels=8)\n",
    "CB = plt.colorbar(CF, label=\"Solute concentration (m$^{-3}$)\")\n",
    "\n",
    "# plot retention\n",
    "plt.subplot(2, 2, 4)\n",
    "CF = plot(retention, levels=100)\n",
    "CS = plot(retention, mode=\"contour\", colors=\"white\", levels=8)\n",
    "CB = plt.colorbar(CF, label=\"Retention (m$^{-3}$)\")"
   ]
  },
  {
   "cell_type": "markdown",
   "metadata": {},
   "source": [
    "### Plot profiles"
   ]
  },
  {
   "cell_type": "code",
   "execution_count": null,
   "metadata": {},
   "outputs": [],
   "source": [
    "import numpy as np\n",
    "\n",
    "def compute_arc_length(xs, ys):\n",
    "    arc_length = [0.0]\n",
    "    points = np.vstack((xs, ys)).T\n",
    "\n",
    "    for i, point in enumerate(points[:-1]):\n",
    "        previous_point = points[i]\n",
    "        current_point = points[i+1]\n",
    "        distance = np.linalg.norm(current_point - previous_point)\n",
    "        arc_length.append(arc_length[-1] + distance)\n",
    "\n",
    "    return arc_length\n",
    "\n",
    "def profile(points_x, points_y, function):\n",
    "    z = []\n",
    "    for x, y in zip(points_x, points_y):\n",
    "        try:\n",
    "            z.append(function(x, y))\n",
    "        except RuntimeError:\n",
    "            z.append(float(\"nan\"))\n",
    "    return z\n",
    "\n",
    "# plot\n",
    "fig, axs = plt.subplots(1, 2, figsize=(13, 5))\n",
    "\n",
    "# plot the retention\n",
    "plt.sca(axs[0])\n",
    "CF = plot(retention, levels=100)\n",
    "plt.colorbar(CF)\n",
    "\n",
    "start_points = [(0, 0), (7, 1), (1, 6)]\n",
    "end_points = [(9, 10), (1, 3), (6, 8)]\n",
    "colours = [\"tab:blue\", \"tab:orange\", \"tab:red\"]\n",
    "for start_point, end_point, colour in zip(start_points, end_points, colours):\n",
    "    # compute the profile\n",
    "    points_x = np.linspace(start_point[0], end_point[0], num=100)\n",
    "    points_y = np.linspace(start_point[1], end_point[1], num=100)\n",
    "\n",
    "    z = profile(points_x, points_y, retention)\n",
    "    # plot\n",
    "    plt.sca(axs[0])\n",
    "    plt.plot(points_x, points_y, color=colour)\n",
    "    plt.sca(axs[1])\n",
    "    plt.plot(compute_arc_length(points_x, points_y), z, color=colour)\n",
    "\n",
    "# circular profile\n",
    "thetas = np.linspace(0, 3/4*np.pi, num=100)\n",
    "radius = 4\n",
    "points_x = cx + radius*np.cos(thetas)\n",
    "points_y = cy + radius*np.sin(thetas)\n",
    "z = profile(points_x, points_y, retention)\n",
    "plt.sca(axs[0])\n",
    "plt.plot(points_x, points_y, color=\"tab:green\")\n",
    "plt.sca(axs[1])\n",
    "plt.plot(compute_arc_length(points_x, points_y), z, color=\"tab:green\")\n",
    "\n",
    "axs[1].set_xlabel(\"arc length (m)\")\n",
    "axs[1].set_ylabel(\"retention (m$^{-3}$)\")\n"
   ]
  },
  {
   "cell_type": "markdown",
   "metadata": {},
   "source": [
    "### Compute custom quantities\n",
    "\n",
    "Further computations can be performed with these fields.\n",
    "\n",
    "For instance, the diffusion coefficient can be retrieved, but also the **trapping** and **detrapping rates**."
   ]
  },
  {
   "cell_type": "code",
   "execution_count": null,
   "metadata": {},
   "outputs": [],
   "source": [
    "from fenics import exp, project\n",
    "from FESTIM import k_B\n",
    "\n",
    "fig, ((ax1, ax2), (ax3, ax4)) = plt.subplots(2, 2, figsize=(10, 10))\n",
    "\n",
    "# plot temperature\n",
    "plt.sca(ax1)\n",
    "CF = plot(T, cmap=\"inferno\", levels=100)\n",
    "CB = plt.colorbar(CF, label=\"Temperature (K)\")\n",
    "ax1.set_title('$T$')\n",
    "\n",
    "# computing the diffusion coefficient in m2 s-1\n",
    "D = 4.1e-7*exp(-0.39/k_B/T)\n",
    "plt.sca(ax2)\n",
    "CF = plot(D, levels=100)\n",
    "CB = plt.colorbar(CF, label=\"Diffusion coefficient (m$^2$ s$^{-1}$)\")\n",
    "ax2.set_title('$D(T)$')\n",
    "\n",
    "# computing the detrapping rate in m-3 s-1\n",
    "p = 8.4e12*exp(-0.9/k_B/T)\n",
    "detrapping_rate = p*trap1\n",
    "plt.sca(ax3)\n",
    "CF = plot(detrapping_rate, levels=100)\n",
    "CB = plt.colorbar(CF, label=\"Detrapping rate (m$^{-3}$ s$^{-1}$)\")\n",
    "ax3.set_title('$p(T) \\;c_\\mathrm{t}$')\n",
    "\n",
    "# computing the trapping rate in m-3 s-1\n",
    "k = 3.8e-17*exp(-0.39/k_B/T)\n",
    "trap_density = 1e25\n",
    "trapping_rate = project(\n",
    "    k*solute*(trap_density - trap1),\n",
    "    FunctionSpace(mesh, \"DG\", 1)\n",
    ")\n",
    "plt.sca(ax4)\n",
    "CF = plot(trapping_rate, levels=100)\n",
    "CB = plt.colorbar(CF, label=\"Trapping rate (m$^{-3}$ s$^{-1}$)\")\n",
    "ax4.set_title('$k(T) \\;c_\\mathrm{m} \\;(n-c_\\mathrm{t})$')"
   ]
  }
 ],
 "metadata": {
  "file_extension": ".py",
  "kernelspec": {
   "display_name": "Python 3",
   "language": "python",
   "name": "python3"
  },
  "language_info": {
   "codemirror_mode": {
    "name": "ipython",
    "version": 3
   },
   "file_extension": ".py",
   "mimetype": "text/x-python",
   "name": "python",
   "nbconvert_exporter": "python",
   "pygments_lexer": "ipython3",
   "version": "3.6.9"
  },
  "mimetype": "text/x-python",
  "name": "python",
  "npconvert_exporter": "python",
  "pygments_lexer": "ipython3",
  "version": 3
 },
 "nbformat": 4,
 "nbformat_minor": 2
}
