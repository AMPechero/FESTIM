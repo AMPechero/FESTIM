{
 "cells": [
  {
   "cell_type": "markdown",
   "metadata": {},
   "source": [
    "# Post-processing with FESTIM: derived quantities\n",
    "In this tutorial, we will show the wide range of derived quantities that can be computed as a post process in FESTIM and how to plot them with matplotlib."
   ]
  },
  {
   "cell_type": "markdown",
   "metadata": {},
   "source": [
    "## 1. Problem definition\n",
    "\n",
    "The test case for this tutorial will be a 2D composite domain with 2 traps.\n",
    "\n",
    " <p align=\"center\">\n",
    "  <img src=\"https://user-images.githubusercontent.com/40028739/104911125-a85da380-598a-11eb-9ba2-9e105f478759.jpg\" width=\"40%\">\n",
    "</p>\n",
    "\n",
    "\n",
    "- $\\Omega = [0;10^{-7}] \\times [0;10^{-7}]$\n",
    "- $\\Omega_2 = [5\\times 10^{-8};10^{-7}] \\times [5\\times 10^{-8};10^{-7}]$\n",
    "- $\\Omega_1 = \\Omega \\; / \\; \\Omega_2$\n",
    "- $D(T) = \\begin{cases}\n",
    "    4.1\\times 10^{-7} \\exp{(-0.39/k_B T)}, & \\text{on } \\Omega_1\\\\\n",
    "    5.0\\times 10^{-7} \\exp{(-0.50/k_B T)}, & \\text{on } \\Omega_2\n",
    "    \\end{cases}$\n",
    "- Trap 1 in $\\Omega_1$:\n",
    "    - Density: $n_1 = 6\\times 10^{25} \\text{ m}^{-3}$\n",
    "    - Trapping rate: $k(T) = 3.8 \\times 10^{-17} \\exp{(-0.39/k_B T)} \\text{ s}^{-1}$\n",
    "    - Detrapping rate: $p(T) = 10^{13} \\exp{(-0.87/k_B T)} \\text{ s}^{-1}$\n",
    "- Trap 2 in $\\Omega_2$:\n",
    "    - Density: $n_2 = 6\\times 10^{25} \\text{ m}^{-3}$\n",
    "    - Trapping rate: $k(T) = 3.8 \\times 10^{-17} \\exp{(-0.39/k_B T)} \\text{ s}^{-1}$\n",
    "    - Detrapping rate: $p(T) = 10^{13} \\exp{(-1.0/k_B T)} \\text{ s}^{-1}$\n",
    "\n",
    "Two Dirichlet boundary conditions will be imposed on $\\Gamma_\\mathrm{left}$ and $\\Gamma_\\mathrm{bottom}$.\n",
    "\n",
    "- $c_\\mathrm{m} = 10^{15} \\; \\mathrm{m}^{-3} \\quad \\text{on } \\Gamma_\\mathrm{left}$\n",
    "- $c_\\mathrm{m} = 0 \\; \\mathrm{m}^{-3} \\quad \\text{on }\\Gamma_\\mathrm{bottom}$\n",
    "\n",
    "All the other surfaces are insulated ($\\nabla c_\\mathrm{m} \\cdot n = 0$).\n",
    "\n",
    "## 2. Implementation\n",
    "First, the main parameters dictionnary needs to be initialised."
   ]
  },
  {
   "cell_type": "code",
   "execution_count": 1,
   "metadata": {},
   "outputs": [],
   "source": [
    "parameters = {}"
   ]
  },
  {
   "cell_type": "markdown",
   "metadata": {},
   "source": [
    "Then, let's create a mesh using FEniCS commands."
   ]
  },
  {
   "cell_type": "code",
   "execution_count": 2,
   "metadata": {},
   "outputs": [],
   "source": [
    "from fenics import Point, RectangleMesh, CompiledSubDomain, MeshFunction\n",
    "\n",
    "# creating a 2D mesh with FEniCS\n",
    "nx = ny = 14\n",
    "mesh_fenics = RectangleMesh(Point(0, 0), Point(1e-7, 1e-7), nx, ny)\n",
    "\n",
    "# marking volumes\n",
    "volume_markers = MeshFunction(\"size_t\", mesh_fenics, mesh_fenics.topology().dim())\n",
    "\n",
    "volume_markers.set_all(1)\n",
    "\n",
    "tol = 1e-14\n",
    "\n",
    "subdomain_2 = CompiledSubDomain('x[1] >= 0.5e-7 - tol && x[0] >= 0.5e-7 - tol', tol=tol)\n",
    "subdomain_2.mark(volume_markers, 2)\n",
    "\n",
    "# marking surfaces\n",
    "surface_markers = MeshFunction(\"size_t\", mesh_fenics, mesh_fenics.topology().dim() - 1)\n",
    "\n",
    "left_surface = CompiledSubDomain('on_boundary && near(x[0], 0, tol)',\n",
    "                                tol=tol)\n",
    "bottom_surface = CompiledSubDomain('on_boundary && near(x[1], 0, tol)',\n",
    "                                     tol=tol)\n",
    "surface_markers.set_all(0)\n",
    "left_surface.mark(surface_markers, 1)\n",
    "bottom_surface.mark(surface_markers, 2)\n",
    "\n",
    "# creating mesh with FESTIM\n",
    "parameters[\"mesh_parameters\"] = {\n",
    "    \"mesh\": mesh_fenics,\n",
    "    \"volume_markers\": volume_markers,\n",
    "    \"surface_markers\": surface_markers,\n",
    "}"
   ]
  },
  {
   "cell_type": "markdown",
   "metadata": {},
   "source": [
    "The two materials will have different diffusion coefficients."
   ]
  },
  {
   "cell_type": "code",
   "execution_count": 3,
   "metadata": {},
   "outputs": [],
   "source": [
    "parameters[\"materials\"] = [{\n",
    "    \"E_D\": 0.39,\n",
    "    \"D_0\": 4.1e-7,\n",
    "    \"id\": 1\n",
    "},\n",
    "    {\n",
    "    \"E_D\": 0.5,\n",
    "    \"D_0\": 5e-7,\n",
    "    \"id\": 2\n",
    "},\n",
    "]"
   ]
  },
  {
   "cell_type": "markdown",
   "metadata": {},
   "source": [
    "The same traps as in the Ogorodnikova demo will be used."
   ]
  },
  {
   "cell_type": "code",
   "execution_count": 4,
   "metadata": {},
   "outputs": [],
   "source": [
    "parameters[\"traps\"] = [\n",
    "        {\n",
    "            \"k_0\": 3.8e-17,\n",
    "            \"E_k\": 0.39,\n",
    "            \"p_0\": 1e13,\n",
    "            \"E_p\": 0.87,\n",
    "            \"density\": 6e25,\n",
    "            \"materials\": [1]\n",
    "        },\n",
    "        {\n",
    "            \"k_0\": 3.8e-17,\n",
    "            \"E_k\": 0.39,\n",
    "            \"p_0\": 1e13,\n",
    "            \"E_p\": 1.0,\n",
    "            \"density\": 5e24,\n",
    "            \"materials\": [2]\n",
    "        },\n",
    "]"
   ]
  },
  {
   "cell_type": "markdown",
   "metadata": {},
   "source": [
    "Two Dirichlet boundary conditions will be imposed on $\\Gamma_\\mathrm{left}$ (id 1) and $\\Gamma_\\mathrm{bottom}$ (id 2).\n",
    "\n",
    "- $c_\\mathrm{m} = 10^{15} \\; \\mathrm{m}^{-3} \\text{  on } \\Gamma_\\mathrm{left}$\n",
    "- $c_\\mathrm{m} = 0 \\; \\mathrm{m}^{-3} \\text{  on }\\Gamma_\\mathrm{bottom}$\n",
    "\n",
    "All the other surfaces are insulated ($\\nabla c_\\mathrm{m} \\cdot n = 0$)."
   ]
  },
  {
   "cell_type": "code",
   "execution_count": 5,
   "metadata": {},
   "outputs": [],
   "source": [
    "parameters[\"boundary_conditions\"] = [\n",
    "            {\n",
    "                \"surfaces\": [1],\n",
    "                \"value\": 1e15,\n",
    "                \"type\": \"dc\"\n",
    "            },\n",
    "            {\n",
    "                \"surfaces\": [2],\n",
    "                \"value\": 0,\n",
    "                \"type\": \"dc\"\n",
    "            },\n",
    "    ]"
   ]
  },
  {
   "cell_type": "markdown",
   "metadata": {},
   "source": [
    "The temperature will increase linearly with time: $T(t) = 400 + 3t$ "
   ]
  },
  {
   "cell_type": "code",
   "execution_count": 6,
   "metadata": {},
   "outputs": [],
   "source": [
    "from FESTIM import t\n",
    "\n",
    "parameters[\"temperature\"] = {\n",
    "    \"type\": \"expression\",\n",
    "    \"value\": 400 + 3*t\n",
    "    }"
   ]
  },
  {
   "cell_type": "code",
   "execution_count": 7,
   "metadata": {},
   "outputs": [],
   "source": [
    "solving_parameters = {\n",
    "    \"final_time\": 10,\n",
    "    \"initial_stepsize\": 0.005,\n",
    "    \"adaptive_stepsize\": {\n",
    "        \"stepsize_change_ratio\": 1.1,\n",
    "        \"dt_min\": 1e-5\n",
    "    },\n",
    "    \"newton_solver\": {\n",
    "        \"absolute_tolerance\": 1e0,\n",
    "        \"relative_tolerance\": 1e-9,\n",
    "        \"maximum_iterations\": 50,\n",
    "    },\n",
    "    \"traps_element_type\": \"DG\",\n",
    "}\n",
    "\n",
    "parameters[\"solving_parameters\"] = solving_parameters"
   ]
  },
  {
   "cell_type": "markdown",
   "metadata": {},
   "source": [
    "FESTIM can provide a wide range of post-processing quantities called \"derived quantities\".\n",
    "They include:\n",
    "- Volume integration (`\"total_volume\"`)\n",
    "- Surface integration (`\"total_surface\"`)\n",
    "- Surface fluxes (`\"surface_flux\"`)\n",
    "    - Heat fluxes : $ \\varphi = \\int -\\lambda \\nabla T \\cdot n \\; dS $\n",
    "    - Particle fluxes : $ \\varphi = \\int -D \\nabla c_\\mathrm{m} \\cdot n \\; dS $\n",
    "- Average value on volumes (`\"average_volume\"`)\n",
    "- Minimum/maximum on volumes (`\"minimum_volume\"`, `\"maximum_volume\"`)"
   ]
  },
  {
   "cell_type": "code",
   "execution_count": 8,
   "metadata": {},
   "outputs": [],
   "source": [
    "exports = {\n",
    "    \"derived_quantities\": {\n",
    "        \"folder\": 'solution_derived_quantities',\n",
    "        \"file\": \"derived_quantities.csv\",\n",
    "        \"total_volume\": [\n",
    "            {\n",
    "                \"field\": \"solute\",\n",
    "                \"volumes\": [1, 2]\n",
    "            },\n",
    "            {\n",
    "                \"field\": 1,\n",
    "                \"volumes\": [1]\n",
    "            },\n",
    "            {\n",
    "                \"field\": 2,\n",
    "                \"volumes\": [2]\n",
    "            },\n",
    "            {\n",
    "                \"field\": \"retention\",\n",
    "                \"volumes\": [1, 2]\n",
    "            },\n",
    "        ],\n",
    "        \"surface_flux\": [\n",
    "            {\n",
    "                \"field\": \"solute\",\n",
    "                \"surfaces\": [0, 1, 2]\n",
    "            },\n",
    "        ],\n",
    "        \"average_volume\": [\n",
    "            {\n",
    "                \"field\": \"solute\",\n",
    "                \"volumes\": [1, 2]\n",
    "            },\n",
    "            {\n",
    "                \"field\": \"1\",\n",
    "                \"volumes\": [1]\n",
    "            },\n",
    "            {\n",
    "                \"field\": \"2\",\n",
    "                \"volumes\": [2]\n",
    "            },\n",
    "            {\n",
    "                \"field\": \"T\",\n",
    "                \"volumes\": [1]\n",
    "            }\n",
    "        ],\n",
    "        \"total_surface\": [\n",
    "            {\n",
    "                \"field\": \"solute\",\n",
    "                \"surfaces\": [0, 1, 2]\n",
    "            }\n",
    "        ],\n",
    "        \"maximum_volume\": [\n",
    "            {\n",
    "                \"field\": \"retention\",\n",
    "                \"volumes\": [1, 2]\n",
    "            }\n",
    "        ]\n",
    "    },\n",
    "}\n",
    "\n",
    "parameters[\"exports\"] = exports"
   ]
  },
  {
   "cell_type": "markdown",
   "metadata": {},
   "source": [
    "Now that all the parameters have been set, the simulation can be performed using the `run()` function which takes as only argument the dict `parameters`."
   ]
  },
  {
   "cell_type": "code",
   "execution_count": 9,
   "metadata": {},
   "outputs": [
    {
     "name": "stdout",
     "output_type": "stream",
     "text": [
      "Defining initial values\n",
      "Defining variational problem\n",
      "Defining boundary conditions\n",
      "Time stepping...\n",
      "103.48 %        10.3 s    Ellapsed time so far: 2.4 s\r"
     ]
    }
   ],
   "source": [
    "from FESTIM.generic_simulation import run\n",
    "\n",
    "output = run(parameters)"
   ]
  },
  {
   "cell_type": "markdown",
   "metadata": {},
   "source": [
    "## 3. Post-processing\n",
    "Now that the simulation is over, the derived quantities are stored in `output` and have been exported as a CSV file."
   ]
  },
  {
   "cell_type": "code",
   "execution_count": 17,
   "metadata": {},
   "outputs": [
    {
     "name": "stdout",
     "output_type": "stream",
     "text": [
      "['t(s)', 'Flux surface 0: solute', 'Flux surface 1: solute', 'Flux surface 2: solute', 'Average solute volume 1', 'Average solute volume 2', 'Average 1 volume 1', 'Average 2 volume 2', 'Average T volume 1', 'Maximum retention volume 1', 'Maximum retention volume 2', 'Total solute volume 1', 'Total solute volume 2', 'Total 1 volume 1', 'Total 2 volume 2', 'Total retention volume 1', 'Total retention volume 2', 'Total solute surface 0', 'Total solute surface 1', 'Total solute surface 2']\n",
      "[[  5.00000000e-03  -4.72860663e+01   2.66012155e+04 ...,   1.73502290e+07\n",
      "    9.64285714e+07   0.00000000e+00]\n",
      " [  1.05000000e-02  -3.67130694e+01   2.31019195e+04 ...,   2.10825708e+07\n",
      "    9.64285714e+07   0.00000000e+00]\n",
      " [  1.65500000e-02  -3.04443084e+01   2.03455786e+04 ...,   2.46904951e+07\n",
      "    9.64285714e+07   0.00000000e+00]\n",
      " ..., \n",
      " [  8.54359739e+00   4.36023326e+00   1.81899715e+04 ...,   1.02450080e+08\n",
      "    9.64285714e+07   0.00000000e+00]\n",
      " [  9.40295712e+00   3.81278098e+00   1.94059923e+04 ...,   1.01988674e+08\n",
      "    9.64285714e+07   0.00000000e+00]\n",
      " [  1.03482528e+01   3.29659281e+00   2.08172203e+04 ...,   1.01586629e+08\n",
      "    9.64285714e+07   0.00000000e+00]]\n"
     ]
    }
   ],
   "source": [
    "import numpy as np\n",
    "header = output[\"derived_quantities\"][0]\n",
    "derived_quantities = np.array(output[\"derived_quantities\"][1:])\n",
    "\n",
    "print(header)\n",
    "print(derived_quantities)"
   ]
  },
  {
   "cell_type": "markdown",
   "metadata": {},
   "source": [
    "Alternatively, the derived quantities can be read from the exported CSV file."
   ]
  },
  {
   "cell_type": "code",
   "execution_count": 11,
   "metadata": {},
   "outputs": [],
   "source": [
    "derived_quantities_from_file = np.genfromtxt(\"solution_derived_quantities/derived_quantities.csv\", delimiter=',', names=True)"
   ]
  },
  {
   "cell_type": "markdown",
   "metadata": {},
   "source": [
    "These derived quantities can be analysed and plotted using matplotlib (or some other visualisation tool).\n",
    "\n",
    "Below are some examples."
   ]
  },
  {
   "cell_type": "markdown",
   "metadata": {},
   "source": [
    "**Plotting inventories**"
   ]
  },
  {
   "cell_type": "code",
   "execution_count": 12,
   "metadata": {},
   "outputs": [
    {
     "data": {
      "image/png": "[encoded data removed]",
      "text/plain": [
       "<Figure size 432x288 with 2 Axes>"
      ]
     },
     "metadata": {
      "needs_background": "light"
     },
     "output_type": "display_data"
    }
   ],
   "source": [
    "t = derived_quantities[:, output[\"derived_quantities\"][0].index(\"t(s)\")]\n",
    "\n",
    "\n",
    "retention_1 = derived_quantities[:, header.index('Total retention volume 1')]\n",
    "retention_2 = derived_quantities[:, header.index('Total retention volume 2')]\n",
    "\n",
    "trap_1 = derived_quantities[:, header.index('Total 1 volume 1')]\n",
    "trap_2 = derived_quantities[:, header.index('Total 2 volume 2')]\n",
    "\n",
    "solute_1 = derived_quantities[:, header.index('Total solute volume 1')]\n",
    "solute_2 = derived_quantities[:, header.index('Total solute volume 2')]\n",
    "\n",
    "# plot\n",
    "import matplotlib.pyplot as plt\n",
    "fig, (ax1, ax2) = plt.subplots(1, 2, sharey=True)\n",
    "ax1.plot(t, retention_1 + retention_2, linewidth=3, label=\"Total\")\n",
    "ax1.plot(t, retention_1, label=\"Volume 1\")\n",
    "ax1.plot(t, retention_2, label=\"Volume 2\")\n",
    "ax1.set_ylabel(r\"Inventory (H m$^{-1}$)\")\n",
    "ax1.set_xlabel(r\"Time (s)\")\n",
    "ax1.set_xscale(\"log\")\n",
    "ax1.legend()\n",
    "\n",
    "ax2.plot(t, retention_1 + retention_2, linewidth=3, label=\"Total\")\n",
    "ax2.plot(t, trap_1, label=\"Trap 1\")\n",
    "ax2.plot(t, trap_2, label=\"Trap 2\")\n",
    "ax2.plot(t, solute_1, label=\"Solute (vol1)\")\n",
    "ax2.plot(t, solute_2, label=\"Solute (vol2)\")\n",
    "ax2.set_xlabel(r\"Time (s)\")\n",
    "ax2.legend()\n",
    "ax2.set_xscale(\"log\")\n",
    "\n",
    "ax1.set_yscale(\"log\")"
   ]
  },
  {
   "cell_type": "markdown",
   "metadata": {},
   "source": [
    "**Plotting fluxes**"
   ]
  },
  {
   "cell_type": "code",
   "execution_count": 13,
   "metadata": {},
   "outputs": [
    {
     "data": {
      "image/png": "[encoded data removed]",
      "text/plain": [
       "<Figure size 432x288 with 1 Axes>"
      ]
     },
     "metadata": {
      "needs_background": "light"
     },
     "output_type": "display_data"
    }
   ],
   "source": [
    "flux_other_surfaces = derived_quantities[:, header.index('Flux surface 0: solute')]\n",
    "flux_left = derived_quantities[:, header.index('Flux surface 1: solute')]\n",
    "flux_bottom = derived_quantities[:, header.index('Flux surface 2: solute')]\n",
    "flux_total = flux_left + flux_bottom + flux_other_surfaces\n",
    "\n",
    "plt.figure()\n",
    "plt.plot(t, flux_total, linewidth=3, label=\"Total\")\n",
    "plt.plot(t, flux_left, label=\"Left\")\n",
    "plt.plot(t, flux_bottom, label=\"Bottom\")\n",
    "plt.plot(t, flux_other_surfaces, label=\"Others\")\n",
    "plt.ylabel(r\"Particle flux (H m$^{-1}$ s$^{-1}$)\")\n",
    "plt.xlabel(r\"Time (s)\")\n",
    "plt.xscale(\"log\")\n",
    "plt.legend()"
   ]
  },
  {
   "cell_type": "markdown",
   "metadata": {},
   "source": [
    "**Plotting maximum retention**"
   ]
  },
  {
   "cell_type": "code",
   "execution_count": 14,
   "metadata": {},
   "outputs": [
    {
     "data": {
      "image/png": "[encoded data removed]",
      "text/plain": [
       "<Figure size 432x288 with 1 Axes>"
      ]
     },
     "metadata": {
      "needs_background": "light"
     },
     "output_type": "display_data"
    }
   ],
   "source": [
    "max_1 = derived_quantities[:, header.index('Maximum retention volume 1')]\n",
    "max_2 = derived_quantities[:, header.index('Maximum retention volume 2')]\n",
    "\n",
    "plt.figure()\n",
    "plt.loglog(t, max_1, label=\"$\\Omega_1$\")\n",
    "plt.loglog(t, max_2, label=\"$\\Omega_2$\")\n",
    "plt.ylabel(r\"Maximum retention (H m$^{-3}$)\")\n",
    "plt.xlabel(r\"Time (s)\")\n",
    "plt.legend()"
   ]
  },
  {
   "cell_type": "markdown",
   "metadata": {},
   "source": [
    "**Ploting average temperature**"
   ]
  },
  {
   "cell_type": "code",
   "execution_count": 15,
   "metadata": {},
   "outputs": [
    {
     "data": {
      "image/png": "[encoded data removed]",
      "text/plain": [
       "<Figure size 432x288 with 1 Axes>"
      ]
     },
     "metadata": {
      "needs_background": "light"
     },
     "output_type": "display_data"
    }
   ],
   "source": [
    "T = derived_quantities[:, header.index('Average T volume 1')]\n",
    "\n",
    "plt.figure()\n",
    "plt.plot(t, T)\n",
    "plt.ylabel(r\"Temperature (K)\")\n",
    "plt.xlabel(r\"Time (s)\")"
   ]
  },
  {
   "cell_type": "markdown",
   "metadata": {},
   "source": [
    "**Plotting inventory on surfaces**"
   ]
  },
  {
   "cell_type": "code",
   "execution_count": 16,
   "metadata": {},
   "outputs": [
    {
     "data": {
      "image/png": "[encoded data removed]",
      "text/plain": [
       "<Figure size 432x288 with 1 Axes>"
      ]
     },
     "metadata": {
      "needs_background": "light"
     },
     "output_type": "display_data"
    }
   ],
   "source": [
    "solute_surf_0 = derived_quantities[:, header.index('Total solute surface 0')]\n",
    "solute_surf_1 = derived_quantities[:, header.index('Total solute surface 1')]\n",
    "solute_surf_2 = derived_quantities[:, header.index('Total solute surface 2')]\n",
    "\n",
    "plt.figure()\n",
    "plt.plot(t, solute_surf_1, label=\"Left\")\n",
    "plt.plot(t, solute_surf_2, label=\"Bottom\")\n",
    "plt.plot(t, solute_surf_0, label=\"Other surfaces\")\n",
    "plt.ylabel(r\"Solute particles on surfaces (H m$^{-1}$)\")\n",
    "plt.xlabel(r\"Time (s)\")\n",
    "plt.xscale(\"log\")\n",
    "plt.legend()"
   ]
  }
 ],
 "metadata": {
  "file_extension": ".py",
  "kernelspec": {
   "display_name": "Python 3",
   "language": "python",
   "name": "python3"
  },
  "language_info": {
   "codemirror_mode": {
    "name": "ipython",
    "version": 3
   },
   "file_extension": ".py",
   "mimetype": "text/x-python",
   "name": "python",
   "nbconvert_exporter": "python",
   "pygments_lexer": "ipython3",
   "version": "3.6.9"
  },
  "mimetype": "text/x-python",
  "name": "python",
  "npconvert_exporter": "python",
  "pygments_lexer": "ipython3",
  "version": 3
 },
 "nbformat": 4,
 "nbformat_minor": 2
}
