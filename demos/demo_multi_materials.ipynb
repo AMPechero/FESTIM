{
 "cells": [
  {
   "cell_type": "code",
   "execution_count": 1,
   "metadata": {},
   "outputs": [],
   "source": [
    "from FESTIM.generic_simulation import run"
   ]
  },
  {
   "cell_type": "markdown",
   "metadata": {},
   "source": [
    "Create an empty parameters dictionnary"
   ]
  },
  {
   "cell_type": "code",
   "execution_count": 2,
   "metadata": {},
   "outputs": [],
   "source": [
    "parameters = {}"
   ]
  },
  {
   "cell_type": "markdown",
   "metadata": {},
   "source": [
    "Create the materials. In this demo, our domain will be a tungsten sandwich with a copper interlayer.\n",
    "`\"borders\"` represents the boundaries of the 1D domain in $\\text{m}$.\n",
    "`\"E_D\"` is the energy barrier for diffusion expressed in $\\text{eV}$.\n",
    "`\"D_0\"` is the pre-exponential factor of the Arhenius' law for the diffusion coefficient expressed in $\\text{m}^{2}\\text{s}^{-1}$.\n",
    "Diffusion coefficient is expressed as:\n",
    "\\begin{equation}\n",
    "    D(T) = D_{0} e^{\\frac{-E_{diff}}{k_B \\cdot T}}\n",
    "\\end{equation}\n",
    "\n",
    "where $T$ is the temperature in $\\text{K}$ and $k_B = 8.6\\times 10 ^{-5} \\: \\text{eV/K}$ the Boltzmann constant.\n",
    "\n",
    "Finally, `\"id\"` is the id of the material subdomain. This will be needed later on."
   ]
  },
  {
   "cell_type": "code",
   "execution_count": 3,
   "metadata": {},
   "outputs": [],
   "source": [
    "tungsten_left = {\n",
    "    \"borders\": [0, 0.5e-7],\n",
    "    \"E_D\": 0.39,\n",
    "    \"D_0\": 4.1e-7,\n",
    "    \"id\": 1\n",
    "}\n",
    "copper = {\n",
    "    \"borders\": [0.5e-7, 1e-7],\n",
    "    \"E_D\": 0.15,\n",
    "    \"D_0\": 1.5e-7,\n",
    "    \"id\": 2\n",
    "}\n",
    "tungsten_right = {\n",
    "    \"borders\": [1e-7, 1.5e-7],\n",
    "    \"E_D\": 0.39,\n",
    "    \"D_0\": 4.1e-7,\n",
    "    \"id\": 3\n",
    "}\n",
    "parameters[\"materials\"] = [tungsten_left, copper, tungsten_right]"
   ]
  },
  {
   "cell_type": "markdown",
   "metadata": {},
   "source": [
    "Now it's time to create a mesh for our simulation. One way of creating a 1D mesh in FESTIM is to directly provide the mesh coordinates (vertices). In this case, we want 200 nodes in the left hand side sub-domain, 100 nodes in the middle one and finally 200 cells in right hand side sub-domain."
   ]
  },
  {
   "cell_type": "code",
   "execution_count": 4,
   "metadata": {},
   "outputs": [],
   "source": [
    "import numpy as np\n",
    "\n",
    "vertices = np.unique(np.concatenate(\n",
    "        [np.linspace(0, 0.5e-7, num=200),\n",
    "        np.linspace(0.5e-7, 1e-7, num=100),\n",
    "        np.linspace(1e-7, 1.5e-7, num=200)]))\n",
    "\n",
    "parameters[\"mesh_parameters\"] = {\n",
    "    \"vertices\": vertices\n",
    "}"
   ]
  },
  {
   "cell_type": "markdown",
   "metadata": {},
   "source": [
    "In FESTIM, each trap is defined by a dictionary with the following keys:\n",
    "\n",
    "`\"k_0\"` and `\"E_k\"` are the trapping rate pre-exponential factor in $\\text{m}^{3} \\text{s}^{-1}$ and activation energy in $\\text{eV}$.\n",
    "\n",
    "`\"p_0\"` and `\"E_p\"` are the detrapping rate pre-exponential factor in $\\text{s}^{-1}$ and activation energy in $\\text{eV}$.\n",
    "\n",
    "`\"materials\"` is a list of the materials' ids where the trap is.\n",
    "\n",
    "For this example, there will be one trap in the tungsten parts (`trap_tunsgten`) and a trap in the copper layer (`trap_copper`)."
   ]
  },
  {
   "cell_type": "code",
   "execution_count": 5,
   "metadata": {},
   "outputs": [],
   "source": [
    "tungsten_density = 6.3e28\n",
    "trap_tungsten = {\n",
    "    \"k_0\": 3.8e-17,\n",
    "    \"E_k\": 0.39,\n",
    "    \"p_0\": 8.4e12,\n",
    "    \"E_p\": 1.2,\n",
    "    \"density\": 1.3e-3*tungsten_density,\n",
    "    \"materials\": [1, 3]\n",
    "}\n",
    "\n",
    "copper_density = 8.43e28\n",
    "trap_copper = {\n",
    "    \"k_0\": 6e-17,\n",
    "    \"E_k\": 0.39,\n",
    "    \"p_0\": 8e13,\n",
    "    \"E_p\": 0.9,\n",
    "    \"density\": 5e-5*copper_density,\n",
    "    \"materials\": [2]\n",
    "}\n",
    "parameters[\"traps\"] = [trap_tungsten, trap_copper]"
   ]
  },
  {
   "cell_type": "markdown",
   "metadata": {},
   "source": [
    "The temperature in this example will be $320 \\text{K}$ in the whole domain."
   ]
  },
  {
   "cell_type": "code",
   "execution_count": 6,
   "metadata": {},
   "outputs": [],
   "source": [
    "parameters[\"temperature\"] = {\n",
    "    \"type\": \"expression\",\n",
    "    \"value\": 320,\n",
    "}"
   ]
  },
  {
   "cell_type": "markdown",
   "metadata": {},
   "source": [
    "[PUT SOME TEXT HERE]"
   ]
  },
  {
   "cell_type": "code",
   "execution_count": 7,
   "metadata": {},
   "outputs": [],
   "source": [
    "boundary_conditions = [\n",
    "            {\n",
    "                \"surfaces\": [1],\n",
    "                \"value\": 1e20,\n",
    "                \"type\": \"dc\"\n",
    "            },\n",
    "    ]\n",
    "\n",
    "parameters[\"boundary_conditions\"] = boundary_conditions"
   ]
  },
  {
   "cell_type": "markdown",
   "metadata": {},
   "source": [
    "All the output files will be exported in a directory named **outputs**.\n",
    "The two types of derived quantities we are interested in are **volume integrations** of the solute and trapped concentrations as well as the computation of **fluxes on surfaces**."
   ]
  },
  {
   "cell_type": "code",
   "execution_count": 8,
   "metadata": {},
   "outputs": [],
   "source": [
    "folder = 'outputs'\n",
    "\n",
    "exports = {\n",
    "    \"derived_quantities\": {\n",
    "        \"folder\": folder,\n",
    "        \"file\": \"derived_quantities.csv\",\n",
    "        \"total_volume\": [\n",
    "            {\n",
    "                \"field\": \"solute\",\n",
    "                \"volumes\": [1, 2, 3]\n",
    "            },\n",
    "            {\n",
    "                \"field\": 1,\n",
    "                \"volumes\": [1, 3]\n",
    "            },\n",
    "            {\n",
    "                \"field\": 2,\n",
    "                \"volumes\": [2]\n",
    "            }\n",
    "        ],\n",
    "        \"surface_flux\": [\n",
    "            {\n",
    "                \"field\": \"solute\",\n",
    "                \"surfaces\": [1, 2]\n",
    "            }\n",
    "        ]\n",
    "    },\n",
    "    \"txt\": {\n",
    "        \"functions\": ['1', '2', 'solute', 'retention'],\n",
    "        \"labels\": ['1', '2', 'solute', 'retention'],\n",
    "        \"times\": [2000, 17000, 20000],\n",
    "        \"folder\": folder,\n",
    "    },\n",
    "}\n",
    "\n",
    "parameters[\"exports\"] = exports"
   ]
  },
  {
   "cell_type": "markdown",
   "metadata": {},
   "source": [
    "The simulation will last $17 000$s.  "
   ]
  },
  {
   "cell_type": "code",
   "execution_count": 9,
   "metadata": {},
   "outputs": [],
   "source": [
    "solving_parameters = {\n",
    "    \"final_time\": 20000,\n",
    "    \"initial_stepsize\": 50,\n",
    "    \"adaptive_stepsize\": {\n",
    "        \"stepsize_change_ratio\": 1.1,\n",
    "        \"dt_min\": 1e-5\n",
    "    },\n",
    "    \"newton_solver\": {\n",
    "        \"absolute_tolerance\": 1e10,\n",
    "        \"relative_tolerance\": 1e-9,\n",
    "        \"maximum_iterations\": 50,\n",
    "    },\n",
    "    \"traps_element_type\": \"DG\"\n",
    "}\n",
    "\n",
    "parameters[\"solving_parameters\"] = solving_parameters"
   ]
  },
  {
   "cell_type": "markdown",
   "metadata": {},
   "source": [
    "Let's run the simulation!"
   ]
  },
  {
   "cell_type": "code",
   "execution_count": 10,
   "metadata": {},
   "outputs": [
    {
     "name": "stdout",
     "output_type": "stream",
     "text": [
      "Defining initial values\n",
      "Defining variational problem\n",
      "Defining boundary conditions\n",
      "Time stepping...\n",
      "\u0007s0.0 %        20000.0 s    Ellapsed time so far: 1.2 s\n"
     ]
    }
   ],
   "source": [
    "output = run(parameters)"
   ]
  },
  {
   "cell_type": "markdown",
   "metadata": {},
   "source": [
    "We can now plot the derived quantities computed with FESTIM"
   ]
  },
  {
   "cell_type": "code",
   "execution_count": 11,
   "metadata": {},
   "outputs": [
    {
     "data": {
      "image/png": "[encoded data removed]",
      "text/plain": [
       "<Figure size 432x288 with 1 Axes>"
      ]
     },
     "metadata": {
      "needs_background": "light"
     },
     "output_type": "display_data"
    }
   ],
   "source": [
    "import matplotlib.pyplot as plt\n",
    "\n",
    "derived_quantities = np.array(output[\"derived_quantities\"][1:])\n",
    "t = derived_quantities[:, 0]\n",
    "retention = derived_quantities[:, -1] + derived_quantities[:, -2] + derived_quantities[:, -3]\n",
    "plt.plot(t, retention, label=\"total\")\n",
    "plt.plot(t, derived_quantities[:, -1], label=\"Cu\")\n",
    "plt.plot(t, derived_quantities[:, -2], label=\"W right\")\n",
    "plt.plot(t, derived_quantities[:, -3], label=\"W left\")\n",
    "plt.yscale(\"log\")\n",
    "plt.xscale(\"log\")\n",
    "plt.legend()\n",
    "plt.ylabel(\"Inventory (H/m$^2$)\")\n",
    "plt.xlabel(\"Time (s)\")\n",
    "plt.show()"
   ]
  },
  {
   "cell_type": "code",
   "execution_count": 12,
   "metadata": {},
   "outputs": [
    {
     "data": {
      "image/png": "[encoded data removed]",
      "text/plain": [
       "<Figure size 432x288 with 1 Axes>"
      ]
     },
     "metadata": {
      "needs_background": "light"
     },
     "output_type": "display_data"
    }
   ],
   "source": [
    "trap_W_1 = np.genfromtxt(folder + '/1_2000.0s.txt')\n",
    "trap_W_2 = np.genfromtxt(folder + '/1_17000.0s.txt')\n",
    "trap_cu_1 = np.genfromtxt(folder + '/2_2000.0s.txt')\n",
    "trap_cu_2 = np.genfromtxt(folder + '/2_17000.0s.txt')\n",
    "\n",
    "plt.xlim(0, 1.5e-7)\n",
    "plt.ylim(bottom=1e20, top=1e27)\n",
    "plt.plot(trap_W_1[:, 0], trap_W_1[:, 1], label=\"trap W\", color=\"tab:blue\", linestyle='--')\n",
    "plt.plot(trap_cu_1[:, 0], trap_cu_1[:, 1], label=\"trap Cu\", color=\"tab:orange\", linestyle='--')\n",
    "plt.plot(trap_W_2[:, 0], trap_W_2[:, 1], color=\"tab:blue\")\n",
    "plt.plot(trap_cu_2[:, 0], trap_cu_2[:, 1], color=\"tab:orange\")\n",
    "plt.legend()\n",
    "plt.yscale(\"log\")\n",
    "plt.xlabel(\"$x$ (m)\")\n",
    "plt.ylabel(\"retention (H/m$^3$)\")\n",
    "plt.show()"
   ]
  },
  {
   "cell_type": "code",
   "execution_count": 13,
   "metadata": {},
   "outputs": [
    {
     "data": {
      "image/png": "[encoded data removed]",
      "text/plain": [
       "<Figure size 432x288 with 1 Axes>"
      ]
     },
     "metadata": {
      "needs_background": "light"
     },
     "output_type": "display_data"
    }
   ],
   "source": [
    "solute_1 = np.genfromtxt(folder + '/solute_2000.0s.txt')\n",
    "solute_2 = np.genfromtxt(folder + '/solute_17000.0s.txt')\n",
    "\n",
    "plt.plot(solute_1[:, 0], solute_1[:, 1])\n",
    "plt.plot(solute_2[:, 0], solute_2[:, 1])\n",
    "plt.yscale(\"log\")\n",
    "plt.xlabel(\"$x$ (m)\")\n",
    "plt.ylabel(\"solute concentration (H/m$^3$)\")\n",
    "plt.show()\n"
   ]
  },
  {
   "cell_type": "markdown",
   "metadata": {},
   "source": [
    "Note how the solute concentration is continuous across interfaces.\n",
    "\n",
    "A more relevant interface model includes conservation of chemical potential across the interfaces.\n",
    "This can be done with FESTIM by simply providing the **solubility** parameters for the materials.\n",
    "\n",
    "More details can be found in [Delaporte-Mathurin _et al_ (Nuclear Fusion, 2021)](https://iopscience.iop.org/article/10.1088/1741-4326/abd95f)."
   ]
  },
  {
   "cell_type": "code",
   "execution_count": 14,
   "metadata": {},
   "outputs": [
    {
     "name": "stdout",
     "output_type": "stream",
     "text": [
      "Defining initial values\n",
      "Defining variational problem\n",
      "Defining boundary conditions\n",
      "Time stepping...\n",
      "\u0007s0.0 %        20000.0 s    Ellapsed time so far: 5.2 s\n"
     ]
    }
   ],
   "source": [
    "parameters[\"materials\"][0][\"S_0\"] = 1.87e24\n",
    "parameters[\"materials\"][0][\"E_S\"] = 1.04\n",
    "parameters[\"materials\"][1][\"S_0\"] = 3.14e24\n",
    "parameters[\"materials\"][1][\"E_S\"] = 0.57\n",
    "parameters[\"materials\"][2][\"S_0\"] = 1.87e24\n",
    "parameters[\"materials\"][2][\"E_S\"] = 1.04\n",
    "\n",
    "# tolerance is increased for better convergence\n",
    "parameters[\"solving_parameters\"][\"newton_solver\"][\"absolute_tolerance\"] = 1e12\n",
    "\n",
    "output = run(parameters)"
   ]
  },
  {
   "cell_type": "markdown",
   "metadata": {},
   "source": [
    "When plotting the solute particles concentration profiles, one can now observe the concentration jump at interfaces induced by the difference in solubilities.\n",
    "\n",
    "It is worth noting that this additional interface model makes the simulation slower to run."
   ]
  },
  {
   "cell_type": "code",
   "execution_count": 15,
   "metadata": {},
   "outputs": [
    {
     "data": {
      "image/png": "[encoded data removed]",
      "text/plain": [
       "<Figure size 432x288 with 1 Axes>"
      ]
     },
     "metadata": {
      "needs_background": "light"
     },
     "output_type": "display_data"
    }
   ],
   "source": [
    "solute_1_chemical_potential = np.genfromtxt(folder + '/solute_2000.0s.txt')\n",
    "solute_2_chemical_potential = np.genfromtxt(folder + '/solute_17000.0s.txt')\n",
    "\n",
    "plt.plot(solute_1_chemical_potential[:, 0], solute_1_chemical_potential[:, 1])\n",
    "plt.plot(solute_2_chemical_potential[:, 0], solute_2_chemical_potential[:, 1])\n",
    "plt.yscale(\"log\")\n",
    "plt.xlabel(\"$x$ (m)\")\n",
    "plt.ylabel(\"solute concentration (H/m$^3$)\")\n",
    "plt.show()"
   ]
  }
 ],
 "metadata": {
  "file_extension": ".py",
  "kernelspec": {
   "display_name": "Python 3",
   "language": "python",
   "name": "python3"
  },
  "language_info": {
   "codemirror_mode": {
    "name": "ipython",
    "version": 3
   },
   "file_extension": ".py",
   "mimetype": "text/x-python",
   "name": "python",
   "nbconvert_exporter": "python",
   "pygments_lexer": "ipython3",
   "version": "3.6.9"
  },
  "mimetype": "text/x-python",
  "name": "python",
  "npconvert_exporter": "python",
  "pygments_lexer": "ipython3",
  "version": 3
 },
 "nbformat": 4,
 "nbformat_minor": 2
}
