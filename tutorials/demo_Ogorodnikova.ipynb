{
 "cells": [
  {
   "cell_type": "markdown",
   "metadata": {},
   "source": [
    "In this tutorial we will demonstrate how to implement a time-dependent simulation of hydrogen isotopes diffusion-trapping in order to reproduce the experimental results from [Ogorodnikova _et al_ (J. Nucl. Mater. 313-316 (2003) 469-477.)](https://www.sciencedirect.com/science/article/pii/S0022311502013752?via%3Dihub) using FESTIM."
   ]
  },
  {
   "cell_type": "markdown",
   "metadata": {},
   "source": [
    "First import `FESTIM` and `FESTIM.generic_simulation` modules"
   ]
  },
  {
   "cell_type": "code",
   "execution_count": 1,
   "metadata": {},
   "outputs": [],
   "source": [
    "from FESTIM import *\n",
    "from FESTIM.generic_simulation import *"
   ]
  },
  {
   "cell_type": "markdown",
   "metadata": {},
   "source": [
    "# 1. Setting the parameters\n",
    "The function `run()` in FESTIM takes as an argument a dictionary (dict) of parameters. After creating an empty dict, we will define all the parameters needed for the simulation."
   ]
  },
  {
   "cell_type": "code",
   "execution_count": 2,
   "metadata": {},
   "outputs": [],
   "source": [
    "parameters = {}"
   ]
  },
  {
   "cell_type": "markdown",
   "metadata": {},
   "source": [
    "### 1.1 Mesh\n",
    "\n",
    "\n",
    "FESTIM provides a simple way to define refined meshes. \n",
    "The size of the 1D domain we wish to mesh is set in `\"size\"` and is expressed in $\\text{m}$. In our case, we simulate a $20 \\mu\\text{m}$ slab. We start with a broad mesh of 200 cells and then iteratively refine it.\n",
    "In this tutorial, we will perform a first refinement within the first $3 \\mu\\text{m}$ in order to have at least 300 cells in this region. We will do the same for the first $30 \\text{nm}$ where we want at least 120 cells."
   ]
  },
  {
   "cell_type": "code",
   "execution_count": 3,
   "metadata": {},
   "outputs": [],
   "source": [
    "mesh_parameters = {\n",
    "            \"size\": 20e-6,\n",
    "            \"initial_number_of_cells\": 200,\n",
    "            \"refinements\": [\n",
    "                {\n",
    "                    \"cells\": 300,\n",
    "                    \"x\": 3e-6\n",
    "                },\n",
    "                {\n",
    "                    \"cells\": 120,\n",
    "                    \"x\": 30e-9\n",
    "                }\n",
    "            ],\n",
    "        }\n",
    "parameters[\"mesh_parameters\"] = mesh_parameters"
   ]
  },
  {
   "cell_type": "markdown",
   "metadata": {},
   "source": [
    "### 1.2 Material's properties\n",
    "The materials are defined as a list of dict. In our case, we have only one material (tungsten), the list will therefore have only one element.\n",
    "\n",
    "`\"alpha\"` is the lattice constant expressed in $\\text{m}$. `\"beta\"` is the concentration of solute sites expressed in $\\text{m}^{-3}$. `\"borders\"` represents the boundaries of the 1D domain in $\\text{m}$. `\"E_diff\"` is the energy barrier for diffusion expressed in $\\text{eV}$. `\"D_0\"` is the pre-exponential factor of the Arhenius' law for the diffusion coefficient expressed in $\\text{m}^{2}\\text{s}^{-1}$. Diffusion coefficient is expressed as:\n",
    "\\begin{equation}\n",
    "    D(T) = D_0 e^{\\frac{-E_{diff}}{k_B \\cdot T}}\n",
    "\\end{equation}\n",
    "\n",
    "where $T$ is the temperature in $\\text{K}$ and $k_B = 8.6\\times 10 ^{-5} \\: \\text{eV/K}$ the Boltzmann constant.\n",
    "\n",
    "Finally, `\"id\"` is the id of the subdomain. In our case, we have only one."
   ]
  },
  {
   "cell_type": "code",
   "execution_count": 4,
   "metadata": {},
   "outputs": [],
   "source": [
    "material = [{\n",
    "            \"alpha\": 1.1e-10,\n",
    "            \"beta\": 6*6.3e28,\n",
    "            \"density\": 6.3e28,\n",
    "            \"borders\": [0, 20e-6],\n",
    "            \"E_diff\": 0.39,\n",
    "            \"D_0\": 4.1e-7,\n",
    "            \"id\": 1\n",
    "}]\n",
    "parameters[\"materials\"] = material"
   ]
  },
  {
   "cell_type": "markdown",
   "metadata": {},
   "source": [
    "### 1.3 Volumetric source term"
   ]
  },
  {
   "cell_type": "markdown",
   "metadata": {},
   "source": [
    "We define next the volumetric source term for the simulation as a dict.\n",
    "\n",
    "First we import sympy. This package is needed as the source term will be handled as a sympy object in FESTIM.\n",
    "The source term will be defined as:\n",
    "\\begin{equation}\n",
    "    S_{ext} = \\varphi \\cdot f(x) \\quad \\forall t<400 \\text{s}\n",
    "\\end{equation}\n",
    "\n",
    "Where $\\varphi =2.5 \\times 10^{19} \\text{m}^{-2}\\text{s}^{-1}$ and $f(x)$ is a Gaussian spatial distribution with a mean value of $4.5 \\text{nm}$ and a width of $2.5 \\text{nm}$.\n",
    "\n",
    "Below, `t` and `x` are built-in variables that respectively represent time in $\\text{s}$ and the $x$ position in $\\text{m}$."
   ]
  },
  {
   "cell_type": "code",
   "execution_count": 5,
   "metadata": {},
   "outputs": [],
   "source": [
    "import sympy as sp\n",
    "\n",
    "\n",
    "center = 4.5e-9\n",
    "width = 2.5e-9\n",
    "distribution = 1/(width*(2*3.14)**0.5) * sp.exp(-0.5*((x-center)/width)**2)\n",
    "\n",
    "source_term = {\n",
    "        'value': 2.5e19 *distribution* (t <= 400)\n",
    "        }\n",
    "parameters[\"source_term\"] = source_term"
   ]
  },
  {
   "cell_type": "markdown",
   "metadata": {},
   "source": [
    "### 1.4 Traps\n",
    "\n",
    "Traps are defined in FESTIM as a list of dicts. One dict for each trap.\n",
    "`\"energy\"` is the detrapping energy for the trap in $\\text{eV}$. `\"density\"` is the trap density in $\\text{m}^{-3}$. `\"materials\"` is a list of the materials' ids where the trap is. `\"type\"` is the trap type. In FESTIM, traps' types can be either intrinsic or extrinsic. By default, traps are intrinsic. In our case, we have 2 intrinsic traps and 1 extrinsic one.\n",
    "\n",
    "The temporal evolution of extrinsic traps density $n_i$ expressed in $\\text{m}^{-3}$ is defined as:\n",
    " \\begin{equation}\n",
    "    \\frac{dn_i}{dt} = \\varphi_0\\:[(1-\\frac{n_i}{n_{a_{max}}})\\:\\eta_a \\:f_a(x)+(1-\\frac{n_i}{n_{b_{max}}})\\:\\eta_b \\:f_b(x)]\n",
    " \\end{equation}\n",
    " \n",
    " "
   ]
  },
  {
   "cell_type": "code",
   "execution_count": 6,
   "metadata": {},
   "outputs": [],
   "source": [
    "traps = [\n",
    "        {\n",
    "            \"energy\": 0.87,\n",
    "            \"density\": 1.3e-3*6.3e28,\n",
    "            \"materials\": [1]\n",
    "        },\n",
    "        {\n",
    "            \"energy\": 1.0,\n",
    "            \"density\": 4e-4*6.3e28,\n",
    "            \"materials\": [1]\n",
    "        },\n",
    "        {\n",
    "            \"energy\": 1.5,\n",
    "            \"materials\": [1],\n",
    "            \"type\": 'extrinsic',\n",
    "            \"form_parameters\":{\n",
    "                \"phi_0\": 2.5e19* (t <= 400),\n",
    "                \"n_amax\": 1e-1*6.3e28,\n",
    "                \"f_a\": distribution,\n",
    "                \"eta_a\": 6e-4,\n",
    "                \"n_bmax\": 1e-2*6.3e28,\n",
    "                \"f_b\": (x < 1e-6) * (x > 0) * (1/1e-6),\n",
    "                \"eta_b\": 2e-4,\n",
    "            }\n",
    "        }\n",
    "        ]\n",
    "\n",
    "parameters[\"traps\"] = traps"
   ]
  },
  {
   "cell_type": "markdown",
   "metadata": {},
   "source": [
    "### 1.5 Boundary conditions\n",
    "\n",
    "Boundary conditions (BCs) are defined as a list of dicts. BCs can be of several types in FESTIM, the most simple of them being the `\"dc\"` type where an analytical expression is given in `\"value\"`. The key `\"surface\"` contains a list of all the surfaces on which the BC is applied. If no BC is applied on a surface, it will be considered as a non flux surface (ie $\\frac{\\partial c}{\\partial\\textbf{n}} = 0$)\n",
    "\n",
    "**Note** : `\"component\"` is an optionnal parameters and is by default 0. It refers to the component in the solution vector. 0 being the solute population, $i$ the trap $i$."
   ]
  },
  {
   "cell_type": "code",
   "execution_count": 7,
   "metadata": {},
   "outputs": [],
   "source": [
    "boundary_conditions = [\n",
    "            {\n",
    "                \"surface\": [1],\n",
    "                \"value\": 0,\n",
    "                \"component\": 0,\n",
    "                \"type\": \"dc\"\n",
    "            },\n",
    "            {\n",
    "                \"surface\": [2],\n",
    "                \"value\": 0,\n",
    "                \"type\": \"dc\"\n",
    "            }\n",
    "    ]\n",
    "\n",
    "parameters[\"boundary_conditions\"] = boundary_conditions"
   ]
  },
  {
   "cell_type": "markdown",
   "metadata": {},
   "source": [
    "### 1.6 Temperature\n",
    "\n",
    "Temperature has a major effect on HIs' behavior. It is once again defined as a dict. Temperature can be of several types in FESTIM. In this example we set a simple analytical expression. In order to simulate a thermodesorption experiment the temperature is increases at $t=450 \\text{s}$.\n",
    "\n",
    "\\begin{equation}\n",
    "T(t) = \n",
    "    \\begin{cases}\n",
    "    300, & \\text{if} \\: t < 450 \\\\\n",
    "    300 + 8(t - 450), & \\text{else}\n",
    "    \\end{cases}\n",
    "\\end{equation}\n",
    "\n",
    "$T$ is expressed in $\\text{K}$."
   ]
  },
  {
   "cell_type": "code",
   "execution_count": 8,
   "metadata": {},
   "outputs": [],
   "source": [
    "temperature = {\n",
    "            \"type\": \"expression\",\n",
    "            \"value\": 300 + (t > 450) * (8*(t-450))\n",
    "        }\n",
    "\n",
    "parameters[\"temperature\"] = temperature"
   ]
  },
  {
   "cell_type": "markdown",
   "metadata": {},
   "source": [
    "### 1.7 Solver parameters\n",
    "\n",
    "First we set the final time of computation, here $500 \\text{s}$. Then the initial stepsize is expressed in $\\text{s}$ in `\"initial_stepsize\"`. \n",
    "An adaptive stepsize algorithm has been implemented in order to save computational cost depending on the last timestep. The parameters of the algorithm are set in `\"adaptative_time_step\"`. `\"t_stop\"` is the time when we want the stepsize to be below a value set in `\"stepsize_stop_max\"` in order to have temporal refinement. `\"dt_min\"` is the lower limit for the stepsize below which the computation will stop.\n",
    "\n",
    "**Note**: a stepsize change ratio of 1 will disable the adaptive stepsize algorithm.\n",
    "\n",
    "The Newton solver used in FEniCS can be tweaked and we can set absolute and relative tolerances and the maximum number of iteration at each step."
   ]
  },
  {
   "cell_type": "code",
   "execution_count": 9,
   "metadata": {},
   "outputs": [],
   "source": [
    "solving_parameters = {\n",
    "        \"final_time\": 500,\n",
    "        \"initial_stepsize\": 0.5,\n",
    "        \"adaptive_stepsize\": {\n",
    "            \"stepsize_change_ratio\": 1.1,\n",
    "            \"t_stop\": 430,\n",
    "            \"stepsize_stop_max\": 0.5,\n",
    "            \"dt_min\": 1e-5\n",
    "            },\n",
    "        \"newton_solver\": {\n",
    "            \"absolute_tolerance\": 1e10,\n",
    "            \"relative_tolerance\": 1e-9,\n",
    "            \"maximum_it\": 50,\n",
    "        }\n",
    "        }\n",
    "\n",
    "parameters[\"solving_parameters\"] = solving_parameters"
   ]
  },
  {
   "cell_type": "markdown",
   "metadata": {},
   "source": [
    "### 1.8 Exports\n",
    "\n",
    "FESTIM provides a range of exports defined as a dict of dicts.\n",
    "\n",
    "One can export 1D profiles to a .txt file at specific times and/or export profiles to XDMF files at each timestep. In both cases, the fields to be exported are defined in `\"functions\"` as a list of strings. `\"solute\"` refers to the mobile concentration of HIs, $i$ is the concentration of HIs trapped in trap $i$ and `\"retention\"` is the total ammount of HIs. `\"labels\"` will be the name of the exports files and can be anything we want.\n",
    "\n",
    "One can also export the desorption spectrum (`\"TDS\"`) to a .csv file. The starting time of the desorption (ie. time from which desorption is calculated) is defined in `\"TDS_time\"`.\n",
    "\n",
    "All exports will be stored in the folder Solution_Ogorodnikova/."
   ]
  },
  {
   "cell_type": "code",
   "execution_count": 10,
   "metadata": {},
   "outputs": [],
   "source": [
    "folder = 'Solution_Ogorodnikova'\n",
    "\n",
    "exports = {\n",
    "        \"txt\": {\n",
    "            \"functions\": ['retention'],\n",
    "            \"times\": [100, 200],\n",
    "            \"labels\": ['retention'],\n",
    "            \"folder\": folder\n",
    "        },\n",
    "        \"xdmf\": {\n",
    "            \"functions\": ['solute', '1', '2', '3', 'retention'],\n",
    "            \"labels\":  ['solute', 'trap_1', 'trap_2',\n",
    "                        'trap_3', 'retention'],\n",
    "            \"folder\": folder\n",
    "        },\n",
    "        \"TDS\": {\n",
    "            \"file\": \"desorption\",\n",
    "            \"TDS_time\": 450,\n",
    "            \"folder\": folder\n",
    "            }\n",
    "        }\n",
    "\n",
    "parameters[\"exports\"] = exports"
   ]
  },
  {
   "cell_type": "markdown",
   "metadata": {},
   "source": [
    "We end up with all the parameters needed for the simulation in FESTIM stored in the dict `parameters`."
   ]
  },
  {
   "cell_type": "code",
   "execution_count": 19,
   "metadata": {},
   "outputs": [
    {
     "name": "stdout",
     "output_type": "stream",
     "text": [
      "mesh_parameters:{'size': 2e-05, 'initial_number_of_cells': 200, 'refinements': [{'cells': 300, 'x': 3e-06}, {'cells': 120, 'x': 3e-08}]}\n",
      "\n",
      "\n",
      "materials:[{'alpha': 1.1e-10, 'beta': 3.7800000000000004e+29, 'density': 6.3e+28, 'borders': [0, 2e-05], 'E_diff': 0.39, 'D_0': 4.1e-07, 'id': 1}]\n",
      "\n",
      "\n",
      "source_term:{'value': 3.99043442233811e+27*exp(-0.5*(400000000.0*x[0] - 1.8)**2)*(t <= 400)}\n",
      "\n",
      "\n",
      "traps:[{'energy': 0.87, 'density': 8.19e+25, 'materials': [1]}, {'energy': 1.0, 'density': 2.52e+25, 'materials': [1]}, {'energy': 1.5, 'materials': [1], 'type': 'extrinsic', 'form_parameters': {'phi_0': 2.5e+19*(t <= 400), 'n_amax': 6.3e+27, 'f_a': 159617376.893524*exp(-0.5*(400000000.0*x[0] - 1.8)**2), 'eta_a': 0.0006, 'n_bmax': 6.3e+26, 'f_b': 1000000.0*(x[0] < 1.0e-6)*(x[0] > 0), 'eta_b': 0.0002}}]\n",
      "\n",
      "\n",
      "boundary_conditions:[{'surface': [1], 'value': 0, 'component': 0, 'type': 'dc'}, {'surface': [2], 'value': 0, 'type': 'dc'}]\n",
      "\n",
      "\n",
      "temperature:{'type': 'expression', 'value': (8*t - 3600)*(t > 450) + 300}\n",
      "\n",
      "\n",
      "solving_parameters:{'final_time': 500, 'initial_stepsize': 0.5, 'adaptive_stepsize': {'stepsize_change_ratio': 1.1, 't_stop': 430, 'stepsize_stop_max': 0.5, 'dt_min': 1e-05}, 'newton_solver': {'absolute_tolerance': 10000000000.0, 'relative_tolerance': 1e-09, 'maximum_it': 50}}\n",
      "\n",
      "\n",
      "exports:{'txt': {'functions': ['retention'], 'times': [100, 200], 'labels': ['retention'], 'folder': 'Solution_Ogorodnikova'}, 'xdmf': {'functions': ['solute', '1', '2', '3', 'retention'], 'labels': ['solute', 'trap_1', 'trap_2', 'trap_3', 'retention'], 'folder': 'Solution_Ogorodnikova'}, 'TDS': {'file': 'desorption', 'TDS_time': 450, 'folder': 'Solution_Ogorodnikova'}}\n",
      "\n",
      "\n"
     ]
    }
   ],
   "source": [
    "for key, value in parameters.items():\n",
    "    print(str(key) + \":\" + str(value))\n",
    "    print('\\n')"
   ]
  },
  {
   "cell_type": "markdown",
   "metadata": {},
   "source": [
    "# 2. Run the simulation\n",
    "\n",
    "Now that all the parameters have been set, we can finally run the simulation using the `run()` function which takes as only argument the dict `parameters`."
   ]
  },
  {
   "cell_type": "code",
   "execution_count": 12,
   "metadata": {
    "scrolled": true
   },
   "outputs": [
    {
     "name": "stdout",
     "output_type": "stream",
     "text": [
      "Meshing ...\n",
      "Mesh size before local refinement is 200\n",
      "Mesh size after local refinement is 650\n",
      "Mesh size before local refinement is 650\n",
      "Mesh size after local refinement is 798\n",
      "Defining source terms\n",
      "Defining boundary conditions\n",
      "Defining initial values\n",
      "Defining variational problem\n",
      "Time stepping...\n",
      "\u0007s0.01 %        500.0 s    Ellapsed time so far: 68.0 s\n"
     ]
    }
   ],
   "source": [
    "output = run(parameters)"
   ]
  },
  {
   "cell_type": "markdown",
   "metadata": {},
   "source": [
    "# 3. Output\n",
    "\n",
    "Now that the simulation is over, several objects such as the parameters dict, the mesh, the temperature and the desorption table  are stored in `output`."
   ]
  },
  {
   "cell_type": "code",
   "execution_count": 16,
   "metadata": {},
   "outputs": [
    {
     "name": "stdout",
     "output_type": "stream",
     "text": [
      "dict_keys(['parameters', 'mesh', 'temperature', 'TDS'])\n"
     ]
    }
   ],
   "source": [
    "print(output.keys())"
   ]
  },
  {
   "cell_type": "markdown",
   "metadata": {},
   "source": [
    "In `output[\"temperature\"]` we will be able to retrieve the temperature at the core of the domain at every timestep."
   ]
  },
  {
   "cell_type": "code",
   "execution_count": 17,
   "metadata": {},
   "outputs": [
    {
     "name": "stdout",
     "output_type": "stream",
     "text": [
      "[['t (s)' 'T (K)']\n",
      " ['0.5' '300.0']\n",
      " ['0.9545454545454546' '300.0']\n",
      " ..., \n",
      " ['499.0266404933807' '692.213123947']\n",
      " ['499.5266404933807' '696.213123947']\n",
      " ['500.0266404933807' '700.213123947']]\n"
     ]
    }
   ],
   "source": [
    "import numpy as np\n",
    "np.set_printoptions(threshold=20)\n",
    "print(np.array(output[\"temperature\"]))"
   ]
  },
  {
   "cell_type": "markdown",
   "metadata": {},
   "source": [
    "Whereas in `output[\"TDS\"]` is stored the exact same desorption data that has been exported to the .csv file."
   ]
  },
  {
   "cell_type": "code",
   "execution_count": 18,
   "metadata": {},
   "outputs": [
    {
     "name": "stdout",
     "output_type": "stream",
     "text": [
      "[['t (s)' 'T (K)' 'd (m-2.s-1)']\n",
      " ['450.0266404933807' '300.213123947' '2.315922518618931e+16']\n",
      " ['450.5266404933807' '304.213123947' '3.5708037039128576e+16']\n",
      " ..., \n",
      " ['499.0266404933807' '692.213123947' '1.5153242315658035e+17']\n",
      " ['499.5266404933807' '696.213123947' '1.2128713680071763e+17']\n",
      " ['500.0266404933807' '700.213123947' '9.455067303297434e+16']]\n"
     ]
    }
   ],
   "source": [
    "print(np.array(output[\"TDS\"]))"
   ]
  },
  {
   "cell_type": "markdown",
   "metadata": {},
   "source": [
    "One can then plot the desorption spectra (ie. desorption flux as function of temperature) below:"
   ]
  },
  {
   "cell_type": "markdown",
   "metadata": {},
   "source": [
    "![title](docs/TDS_Ogorodnikova.png)"
   ]
  }
 ],
 "metadata": {
  "kernelspec": {
   "display_name": "Python 3",
   "language": "python",
   "name": "python3"
  },
  "language_info": {
   "codemirror_mode": {
    "name": "ipython",
    "version": 3
   },
   "file_extension": ".py",
   "mimetype": "text/x-python",
   "name": "python",
   "nbconvert_exporter": "python",
   "pygments_lexer": "ipython3",
   "version": "3.6.5"
  }
 },
 "nbformat": 4,
 "nbformat_minor": 2
}
